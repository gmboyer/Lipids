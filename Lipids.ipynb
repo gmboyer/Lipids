{
 "cells": [
  {
   "cell_type": "markdown",
   "metadata": {
    "slideshow": {
     "slide_type": "-"
    }
   },
   "source": [
    "# Thermodynamic modeling of lipid adaptation in thermophilic microbes\n",
    "\n",
    "### Grayson Boyer, Arizona State University"
   ]
  },
  {
   "cell_type": "markdown",
   "metadata": {
    "slideshow": {
     "slide_type": "-"
    }
   },
   "source": [
    "## Introduction\n",
    "\n",
    "&nbsp;&nbsp;&nbsp;&nbsp;&nbsp;&nbsp;My research involves visiting and sampling hot springs of Yellowstone National Park (YNP), USA and elsewhere around the world."
   ]
  },
  {
   "cell_type": "markdown",
   "metadata": {},
   "source": [
    "<div style=\"float: left; width: 40%; margin-right: 1%; margin-bottom: 0.5em;\" class=\"container\">\n",
    "    <center>Bison Pool, YNP</center>\n",
    "    <img src=\"images/BisonSmall2.png\">\n",
    "</div>\n",
    "<div style=\"float: left; width: 40%; margin-left: 1%; margin-bottom: 0.5em;\" class=\"container\">\n",
    "    <center>Octopus Spring, YNP</center>\n",
    "    <img src=\"images/OctopusUpstreamSmall.png\">\n",
    "</div>"
   ]
  },
  {
   "cell_type": "markdown",
   "metadata": {},
   "source": [
    "&nbsp;&nbsp;&nbsp;&nbsp;&nbsp;&nbsp;Specifically, I sample and study heat-loving, or **\"thermophilic\"**, microbes that form **communities** submerged in hot spring water. Communities can grow large enough to view with the naked eye, such as these \"pink streamer\" communities photographed in the water of Octopus Spring. (In person, these look like billowing clumps of cotton candy stuck to rocks under the water!)"
   ]
  },
  {
   "cell_type": "markdown",
   "metadata": {},
   "source": [
    "<center>Pink streamers at Octopus Spring</center>\n",
    "<img src=\"images/PSC_small.png\" height=\"700\" width=\"700\">"
   ]
  },
  {
   "cell_type": "markdown",
   "metadata": {},
   "source": [
    "&nbsp;&nbsp;&nbsp;&nbsp;&nbsp;&nbsp;Downstream, thermophile communities can look completely different, like this huge photosynthetic microbial mat at Octopus Spring. It is as squishy and slimy as it looks!"
   ]
  },
  {
   "cell_type": "markdown",
   "metadata": {},
   "source": [
    "<center>Microbial mat downstream of Octopus Spring</center>\n",
    "<img src=\"images/OctopusDownstreamSmall.png\" height=\"700\" width=\"700\">"
   ]
  },
  {
   "cell_type": "markdown",
   "metadata": {},
   "source": [
    "### Thermophile Lipids\n",
    "\n",
    "&nbsp;&nbsp;&nbsp;&nbsp;&nbsp;&nbsp;One way that thermophiles have adapted to life in boiling water is by making their outer layer, or **cell membrane**, resistant to heat. Cell membranes are composed of many individual **lipid molecules** with different abundances and chemical structures that provide heat-resistance. There are many, many, many different kinds of lipids. Chemical cartoons of two examples are shown below. For fun, try to find a few similarities and differences between them."
   ]
  },
  {
   "cell_type": "markdown",
   "metadata": {
    "slideshow": {
     "slide_type": "-"
    }
   },
   "source": [
    "<center><img src=\"images/IPL_examples.png\" height=\"700\" width=\"700\"></center>"
   ]
  },
  {
   "cell_type": "markdown",
   "metadata": {},
   "source": [
    "&nbsp;&nbsp;&nbsp;&nbsp;&nbsp;&nbsp;The top one is found in some thermophiles that live around 70 to 90 $^\\circ$C while the bottom one found in photosynthetic microbes that live below 70$^\\circ$C and is also common in plants. These lipids have complicated chemical names that I won't refer to here, but in case you're curious, the top and bottom lipids shown above are called \"phosphoaminopentanetetrol acyl ether glycerol\" and \"sulfoquinovosyl diacylglycerol\", respectively."
   ]
  },
  {
   "cell_type": "markdown",
   "metadata": {},
   "source": [
    "&nbsp;&nbsp;&nbsp;&nbsp;&nbsp;&nbsp;A few ways that the chemical structure of lipids can be modified are shown. Some of these modifications provide heat resistance, such as longer chain lengths, more ether bonds, and fewer double bonds."
   ]
  },
  {
   "cell_type": "markdown",
   "metadata": {
    "slideshow": {
     "slide_type": "-"
    }
   },
   "source": [
    "<center><img src=\"images/lipid_example.png\" height=\"700\" width=\"700\"></center>"
   ]
  },
  {
   "cell_type": "markdown",
   "metadata": {
    "collapsed": true
   },
   "source": [
    "&nbsp;&nbsp;&nbsp;&nbsp;&nbsp;&nbsp;When I extract and quantify thermophile lipids in hot spring sediment or biomass samples I look for:\n",
    "1. Patterns in chemical structures that provide heat resistance.\n",
    "2. How these patterns change with temperature and other geochemical variables, such as dissolved oxygen concentration in the water.\n",
    "3. Ways that microbes are **saving energy** with their lipids.\n",
    "\n",
    "\n",
    "&nbsp;&nbsp;&nbsp;&nbsp;&nbsp;&nbsp;Point 3 requires performing calculations to estimate how much energy it takes for a thermophile to synthesize a particular lipid relative to another. This cost changes depending on the temperature and water chemistry of the habitat."
   ]
  },
  {
   "cell_type": "markdown",
   "metadata": {},
   "source": [
    "### Hypothesis\n",
    "\n",
    "&nbsp;&nbsp;&nbsp;&nbsp;&nbsp;&nbsp;My hypothesis is that microbes adapt their lipid composition to **1) minimize energy cost** and **2) maximize lipid function**. In other words, microbes have performed cost-benefit analysis through natural selection: a microbe that evolves a way to save more energy can reproduce faster than its neighbors, therefore making it more competitive. But remember, a given lipid will cost different amounts to make depending on habitat conditions, which could explain why we see different distributions and chemical structures of lipids in different places.\n",
    "\n",
    "&nbsp;&nbsp;&nbsp;&nbsp;&nbsp;&nbsp;To test this hypothesis, I first sampled thermophile communities living in different temperatures and chemical conditions. Then for each sample, I calculated whether the energy needed to synthesize observed lipids was minimized in the chemical conditions of that sample location relative to other locations.\n",
    "\n",
    "&nbsp;&nbsp;&nbsp;&nbsp;&nbsp;&nbsp;The remained of this notebook focuses on the results of one hot spring in YNP, **Bison Pool**, which was sampled during the summer of 2012. The **source** pool is pictured below on the left, where hot water comes to the surface at ~89$^{\\circ}$C and then flows away via a narrow **outflow channel**. The photomosaic map of Bison Pool's outflow channel shown below indicates the six sites where I sampled lipids from thermophile biomass."
   ]
  },
  {
   "cell_type": "markdown",
   "metadata": {
    "slideshow": {
     "slide_type": "-"
    }
   },
   "source": [
    "<img src=\"images/bisonpicsmall.jpg\" style=\"float: left; width: 50%; margin-right: 1%; margin-bottom: 0.5em;\">\n",
    "<img src=\"images/bison_map.png\" style=\"float: left; width: 40%; margin-right: 1%; margin-bottom: 0.5em;\">\n",
    "<p style=\"clear: both;\">"
   ]
  },
  {
   "cell_type": "markdown",
   "metadata": {
    "slideshow": {
     "slide_type": "-"
    }
   },
   "source": [
    "Site          | % ester bond  | ave. length   | ave. double bonds | % hydroxyl.\n",
    "------------- | ------------: | ------------: | ----------------: |----------------:\n",
    "Bison Pool 1  | 27            |  19.8         | 0.16              | 0.9\n",
    "Bison Pool 2  | 42            |  19.4         | 0.18              | 1.4\n",
    "Bison Pool 3  | 74            |  17.9         | 0.17              | 2.1\n",
    "Bison Pool 4  | 55            |  17.3         | 0.17              | 1.5\n",
    "Bison Pool 5  | 85            |  16.8         | 0.27              | 2.6\n",
    "Bison Pool 6  | 97            |  16.7         | 0.41              | 0.3"
   ]
  },
  {
   "cell_type": "markdown",
   "metadata": {
    "slideshow": {
     "slide_type": "-"
    }
   },
   "source": [
    "<center><img src=\"images/Bison1RepLipid.png\" height=\"700\" width=\"700\"></center>"
   ]
  },
  {
   "cell_type": "markdown",
   "metadata": {
    "slideshow": {
     "slide_type": "-"
    }
   },
   "source": [
    "<center><img src=\"images/chaincomparison.png\" height=\"700\" width=\"700\"></center>"
   ]
  },
  {
   "cell_type": "markdown",
   "metadata": {
    "slideshow": {
     "slide_type": "-"
    }
   },
   "source": [
    "| lipid part     \t| sample chain \t| strategy                            \t| data used                                                                      \t|\n",
    "|:----------------\t|:--------------\t|:-------------------------------------\t|:--------------------------------------------------------------------------------\t|\n",
    "| *straight-chain* \t|              \t| *linear regression of…*               \t|                                                                                \t|\n",
    "| C-C            \t| a            \t| n-alkanes                           \t| C3 to C14                                                                      \t|\n",
    "| ether          \t| b            \t| 1-alcohols                          \t| C3 to C12                                                                      \t|\n",
    "| ester          \t| g            \t| carboxylic acids                    \t| C3 to C12                                                                      \t|\n",
    "|                \t|              \t|                                     \t|                                                                                \t|\n",
    "| *modification*   \t|              \t| *add properties of…*                  \t|                                                                                \t|\n",
    "| unsaturation   \t| g to h       \t| 2-alkenes - alkanes                 \t| 2-(pent, hex)ene                                                               \t|\n",
    "| hydroxyl       \t| g to i       \t| 2-alcohols - alkanes                \t| 2-hept, 3-(pent, hex, hept), 4-heptanol                                        \t|\n",
    "| branch         \t| b to c (x4)  \t| banched - nonbranched alkanes       \t| 2-methyl(prop, but, pent, hex, oct), 3-methyl(pent, hex, hept), 4-methyloctane \t|\n",
    "| pentane ring   \t| d to e       \t| cyclopentanes - n-alkanes           \t| (methyl, propyl, pentyl)cyclopentane                                           \t|\n",
    "| hexane ring    \t| not pictured \t| 1,1,3-trimethylcyclohexane - decane \t| 1,1,3-trimethylcyclohexane                                                     \t|\n",
    "| half monolayer \t| c to d       \t| [CH2] - [CH3]                       \t| CH2 and CH3 contribution of n-alkanes, C3 to C14                               \t|\n",
    "| amide          \t| g to f       \t| [CONH2] - [COOH]                    \t| amino acid backbone contributions                                                                        \t|\n"
   ]
  },
  {
   "cell_type": "markdown",
   "metadata": {
    "slideshow": {
     "slide_type": "-"
    }
   },
   "source": [
    "$$Lipids\\ of\\ site\\ 1_{(aq)} + CO_{2(aq)} + H_{(aq)}^+ + e_{(aq)}^- = Lipids\\ of\\ site\\ 2_{(aq)} + H_2O_{(liq)}$$"
   ]
  },
  {
   "cell_type": "markdown",
   "metadata": {
    "collapsed": true,
    "slideshow": {
     "slide_type": "-"
    }
   },
   "source": [
    "- 'Assemble' lipid thermo properties using group additivity methods\n",
    "\\begin{align}\n",
    "& \\Delta _hG^{\\circ}_{(aq)} && = -2499\\ cal \\cdot mol^{-1} \\\\\n",
    "& \\Delta _fG^{\\circ}_{(aq)} && = -10781\\ cal \\cdot mol^{-1} \\\\\n",
    "& \\Delta _fH^{\\circ}_{(aq)} && = -170234\\ cal \\cdot mol^{-1} \\\\\n",
    "& S^{\\circ}_{(aq)} && = \\ \\ 145.5\\ cal \\cdot mol^{-1} K^{-1} \\\\\n",
    "& Cp^{\\circ}_{2} && = \\ \\ 396.7\\ cal \\cdot mol^{-1} K^{-1} \\\\\n",
    "& V^{\\circ}_{2} && = \\ \\ 320.9\\ cm^{3} \\cdot mol^{-1} \\\\\n",
    "\\end{align}"
   ]
  },
  {
   "cell_type": "markdown",
   "metadata": {
    "slideshow": {
     "slide_type": "-"
    }
   },
   "source": [
    "Site    | % ester bond  | ave. C length   | ave. double bonds | hypoth. lipid formula\n",
    "------------- | ------------: | ------------: | ----------------: |--------------:\n",
    "Bison Pool 1  | 27            |  19.8         | 0.16              | C<sub>19.8</sub>H<sub>39.8</sub>O<sub>1.3</sub>N<sub>0.01</sub>\n",
    "Bison Pool 2  | 42            |  19.4         | 0.18              | C<sub>19.4</sub>H<sub>38.9</sub>O<sub>1.4</sub>N<sub>0.02</sub>\n",
    "Bison Pool 3  | 74            |  17.9         | 0.17              | C<sub>17.9</sub>H<sub>35.8</sub>O<sub>1.7</sub>N<sub>0.02</sub>\n",
    "Bison Pool 4  | 55            |  17.3         | 0.17              | C<sub>17.3</sub>H<sub>35.1</sub>O<sub>1.6</sub>N<sub>0.01</sub>\n",
    "Bison Pool 5  | 85            |  16.8         | 0.27              | C<sub>16.9</sub>H<sub>33.4</sub>O<sub>1.8</sub>N<sub>0.003</sub>\n",
    "Bison Pool 6  | 97           |  16.7         | 0.41              | C<sub>16.7</sub>H<sub>32.6</sub>O<sub>2.0</sub>N<sub>0.003</sub>"
   ]
  },
  {
   "cell_type": "markdown",
   "metadata": {
    "slideshow": {
     "slide_type": "-"
    }
   },
   "source": [
    "- Use these properties to estimate HKF equation-of-state coefficients (Plyasunov and Shock, 2001):\n",
    "\\begin{align}\n",
    "& a_1 \\cdot 10 && =  \\ \\ 64.4\\ cal \\cdot mol^{-1} bar^{-1} \\\\\n",
    "& a_2 \\cdot 10^{-2} && =  \\ \\ 45.8\\ cal \\cdot mol^{-1} \\\\\n",
    "& a_3 && =  \\ \\ 88\\ cal \\cdot K \\cdot mol^{-1} bar^{-1} \\\\\n",
    "& a_4 \\cdot 10^{-4} && = -32.8\\ cal \\cdot K \\cdot mol^{-1} \\\\\n",
    "& c_1 && =  \\ \\ 389.3\\ cal \\cdot K^{-1} mol^{-1} \\\\\n",
    "& c_2 \\cdot 10^{-4} && =  \\ \\ 3.0\\ cal \\cdot K \\cdot mol^{-1} \\\\\n",
    "& \\omega \\cdot 10^{-5} && = -0.142\\ cal \\cdot mol^{-1}\n",
    "\\end{align}\n",
    "\n",
    "- Repeat for each 'hypothetical average lipid' along Bison Pool"
   ]
  },
  {
   "cell_type": "code",
   "execution_count": 1,
   "metadata": {
    "collapsed": true,
    "slideshow": {
     "slide_type": "-"
    }
   },
   "outputs": [],
   "source": [
    "# install necessary packages\n",
    "# install.packages('plotly', repos='http://cran.us.r-project.org')\n",
    "# install.packages('CHNOSZ', repos='http://cran.us.r-project.org')\n",
    "# install.packages('ggplot2', repos='http://cran.us.r-project.org')\n",
    "# install.packages('repr', repos='http://cran.us.r-project.org')"
   ]
  },
  {
   "cell_type": "code",
   "execution_count": 1,
   "metadata": {
    "slideshow": {
     "slide_type": "-"
    }
   },
   "outputs": [
    {
     "name": "stderr",
     "output_type": "stream",
     "text": [
      "Warning message:\n",
      "\"package 'ggplot2' was built under R version 3.3.3\"Warning message:\n",
      "\"package 'CHNOSZ' was built under R version 3.3.3\""
     ]
    }
   ],
   "source": [
    "# turn off warning messages\n",
    "options(warn=-1)\n",
    "options(warn=0)\n",
    "\n",
    "# load package for plotting\n",
    "suppressMessages(library(ggplot2))\n",
    "# suppressMessages(library(plotly)) # plotly currently doesn't work well in Jupyter\n",
    "\n",
    "# load package for thermo calcs\n",
    "suppressMessages(library(CHNOSZ))\n",
    "# load database\n",
    "suppressMessages(data(thermo))"
   ]
  },
  {
   "cell_type": "code",
   "execution_count": 2,
   "metadata": {
    "slideshow": {
     "slide_type": "-"
    }
   },
   "outputs": [
    {
     "data": {
      "text/html": [
       "<table>\n",
       "<thead><tr><th></th><th scope=col>name</th><th scope=col>abbrv</th><th scope=col>formula</th><th scope=col>state</th><th scope=col>ref1</th><th scope=col>ref2</th><th scope=col>date</th><th scope=col>G</th><th scope=col>H</th><th scope=col>S</th><th scope=col>Cp</th><th scope=col>V</th><th scope=col>a1</th><th scope=col>a2</th><th scope=col>a3</th><th scope=col>a4</th><th scope=col>c1</th><th scope=col>c2</th><th scope=col>omega</th><th scope=col>Z</th></tr></thead>\n",
       "<tbody>\n",
       "\t<tr><th scope=row>3556</th><td>Bison1                  </td><td>NA                      </td><td>C19.7H39N0.00777O1.4    </td><td>aq                      </td><td>thermofunc              </td><td>NA                      </td><td>10/31/2017              </td><td>-13806.44               </td><td>-169329.5               </td><td>148.9488                </td><td>393.6683                </td><td>316.7395                </td><td>6.339970                </td><td>4562.869                </td><td>87.93779                </td><td>-325956.1               </td><td>385.7663                </td><td>32052.23                </td><td>-15073.28               </td><td>0                       </td></tr>\n",
       "\t<tr><th scope=row>3557</th><td>Bison2                  </td><td>NA                      </td><td>C19.4H38.4N0.0108O1.51  </td><td>aq                      </td><td>thermofunc              </td><td>NA                      </td><td>10/31/2017              </td><td>-19063.75               </td><td>-170610.5               </td><td>155.2701                </td><td>388.8025                </td><td>311.1325                </td><td>6.236535                </td><td>4459.324                </td><td>85.76420                </td><td>-318564.9               </td><td>381.2082                </td><td>30760.37                </td><td>-14583.35               </td><td>0                       </td></tr>\n",
       "\t<tr><th scope=row>3558</th><td>Bison3                  </td><td>NA                      </td><td>C17.7H34.8N0.00909O1.89 </td><td>aq                      </td><td>thermofunc              </td><td>NA                      </td><td>10/31/2017              </td><td>-45840.58               </td><td>-182673.2               </td><td>155.3465                </td><td>354.2864                </td><td>286.3650                </td><td>5.757734                </td><td>4058.638                </td><td>77.46345                </td><td>-289400.4               </td><td>347.3609                </td><td>27943.31                </td><td>-13536.17               </td><td>0                       </td></tr>\n",
       "\t<tr><th scope=row>3559</th><td>Bison4                  </td><td>NA                      </td><td>C17.5H34.6N0.0071O1.83  </td><td>aq                      </td><td>thermofunc              </td><td>NA                      </td><td>10/31/2017              </td><td>-43941.83               </td><td>-179970.9               </td><td>153.1273                </td><td>351.9435                </td><td>283.7197                </td><td>5.702598                </td><td>4026.191                </td><td>76.80465                </td><td>-286898.9               </td><td>344.9436                </td><td>28257.16                </td><td>-13651.43               </td><td>0                       </td></tr>\n",
       "\t<tr><th scope=row>3560</th><td>Bison5                  </td><td>NA                      </td><td>C16.7H32.6N0.000567O1.65</td><td>aq                      </td><td>thermofunc              </td><td>NA                      </td><td>10/31/2017              </td><td>-35052.52               </td><td>-162339.8               </td><td>145.5541                </td><td>335.2352                </td><td>268.5442                </td><td>5.364130                </td><td>3897.432                </td><td>74.23068                </td><td>-275825.4               </td><td>326.8805                </td><td>33948.67                </td><td>-15803.91               </td><td>0                       </td></tr>\n",
       "\t<tr><th scope=row>3561</th><td>Bison6                  </td><td>NA                      </td><td>C16.7H31.4N0.000805O1.88</td><td>aq                      </td><td>thermofunc              </td><td>NA                      </td><td>10/31/2017              </td><td>-38180.22               </td><td>-160646.9               </td><td>148.6266                </td><td>329.2701                </td><td>263.4714                </td><td>5.322336                </td><td>3669.687                </td><td>69.44976                </td><td>-261498.9               </td><td>323.3655                </td><td>23623.52                </td><td>-11984.63               </td><td>0                       </td></tr>\n",
       "</tbody>\n",
       "</table>\n"
      ],
      "text/latex": [
       "\\begin{tabular}{r|llllllllllllllllllll}\n",
       "  & name & abbrv & formula & state & ref1 & ref2 & date & G & H & S & Cp & V & a1 & a2 & a3 & a4 & c1 & c2 & omega & Z\\\\\n",
       "\\hline\n",
       "\t3556 & Bison1                   & NA                       & C19.7H39N0.00777O1.4     & aq                       & thermofunc               & NA                       & 10/31/2017               & -13806.44                & -169329.5                & 148.9488                 & 393.6683                 & 316.7395                 & 6.339970                 & 4562.869                 & 87.93779                 & -325956.1                & 385.7663                 & 32052.23                 & -15073.28                & 0                       \\\\\n",
       "\t3557 & Bison2                   & NA                       & C19.4H38.4N0.0108O1.51   & aq                       & thermofunc               & NA                       & 10/31/2017               & -19063.75                & -170610.5                & 155.2701                 & 388.8025                 & 311.1325                 & 6.236535                 & 4459.324                 & 85.76420                 & -318564.9                & 381.2082                 & 30760.37                 & -14583.35                & 0                       \\\\\n",
       "\t3558 & Bison3                   & NA                       & C17.7H34.8N0.00909O1.89  & aq                       & thermofunc               & NA                       & 10/31/2017               & -45840.58                & -182673.2                & 155.3465                 & 354.2864                 & 286.3650                 & 5.757734                 & 4058.638                 & 77.46345                 & -289400.4                & 347.3609                 & 27943.31                 & -13536.17                & 0                       \\\\\n",
       "\t3559 & Bison4                   & NA                       & C17.5H34.6N0.0071O1.83   & aq                       & thermofunc               & NA                       & 10/31/2017               & -43941.83                & -179970.9                & 153.1273                 & 351.9435                 & 283.7197                 & 5.702598                 & 4026.191                 & 76.80465                 & -286898.9                & 344.9436                 & 28257.16                 & -13651.43                & 0                       \\\\\n",
       "\t3560 & Bison5                   & NA                       & C16.7H32.6N0.000567O1.65 & aq                       & thermofunc               & NA                       & 10/31/2017               & -35052.52                & -162339.8                & 145.5541                 & 335.2352                 & 268.5442                 & 5.364130                 & 3897.432                 & 74.23068                 & -275825.4                & 326.8805                 & 33948.67                 & -15803.91                & 0                       \\\\\n",
       "\t3561 & Bison6                   & NA                       & C16.7H31.4N0.000805O1.88 & aq                       & thermofunc               & NA                       & 10/31/2017               & -38180.22                & -160646.9                & 148.6266                 & 329.2701                 & 263.4714                 & 5.322336                 & 3669.687                 & 69.44976                 & -261498.9                & 323.3655                 & 23623.52                 & -11984.63                & 0                       \\\\\n",
       "\\end{tabular}\n"
      ],
      "text/markdown": [
       "\n",
       "| <!--/--> | name | abbrv | formula | state | ref1 | ref2 | date | G | H | S | Cp | V | a1 | a2 | a3 | a4 | c1 | c2 | omega | Z | \n",
       "|---|---|---|---|---|---|\n",
       "| 3556 | Bison1                   | NA                       | C19.7H39N0.00777O1.4     | aq                       | thermofunc               | NA                       | 10/31/2017               | -13806.44                | -169329.5                | 148.9488                 | 393.6683                 | 316.7395                 | 6.339970                 | 4562.869                 | 87.93779                 | -325956.1                | 385.7663                 | 32052.23                 | -15073.28                | 0                        | \n",
       "| 3557 | Bison2                   | NA                       | C19.4H38.4N0.0108O1.51   | aq                       | thermofunc               | NA                       | 10/31/2017               | -19063.75                | -170610.5                | 155.2701                 | 388.8025                 | 311.1325                 | 6.236535                 | 4459.324                 | 85.76420                 | -318564.9                | 381.2082                 | 30760.37                 | -14583.35                | 0                        | \n",
       "| 3558 | Bison3                   | NA                       | C17.7H34.8N0.00909O1.89  | aq                       | thermofunc               | NA                       | 10/31/2017               | -45840.58                | -182673.2                | 155.3465                 | 354.2864                 | 286.3650                 | 5.757734                 | 4058.638                 | 77.46345                 | -289400.4                | 347.3609                 | 27943.31                 | -13536.17                | 0                        | \n",
       "| 3559 | Bison4                   | NA                       | C17.5H34.6N0.0071O1.83   | aq                       | thermofunc               | NA                       | 10/31/2017               | -43941.83                | -179970.9                | 153.1273                 | 351.9435                 | 283.7197                 | 5.702598                 | 4026.191                 | 76.80465                 | -286898.9                | 344.9436                 | 28257.16                 | -13651.43                | 0                        | \n",
       "| 3560 | Bison5                   | NA                       | C16.7H32.6N0.000567O1.65 | aq                       | thermofunc               | NA                       | 10/31/2017               | -35052.52                | -162339.8                | 145.5541                 | 335.2352                 | 268.5442                 | 5.364130                 | 3897.432                 | 74.23068                 | -275825.4                | 326.8805                 | 33948.67                 | -15803.91                | 0                        | \n",
       "| 3561 | Bison6                   | NA                       | C16.7H31.4N0.000805O1.88 | aq                       | thermofunc               | NA                       | 10/31/2017               | -38180.22                | -160646.9                | 148.6266                 | 329.2701                 | 263.4714                 | 5.322336                 | 3669.687                 | 69.44976                 | -261498.9                | 323.3655                 | 23623.52                 | -11984.63                | 0                        | \n",
       "\n",
       "\n"
      ],
      "text/plain": [
       "     name   abbrv formula                  state ref1       ref2 date      \n",
       "3556 Bison1 NA    C19.7H39N0.00777O1.4     aq    thermofunc NA   10/31/2017\n",
       "3557 Bison2 NA    C19.4H38.4N0.0108O1.51   aq    thermofunc NA   10/31/2017\n",
       "3558 Bison3 NA    C17.7H34.8N0.00909O1.89  aq    thermofunc NA   10/31/2017\n",
       "3559 Bison4 NA    C17.5H34.6N0.0071O1.83   aq    thermofunc NA   10/31/2017\n",
       "3560 Bison5 NA    C16.7H32.6N0.000567O1.65 aq    thermofunc NA   10/31/2017\n",
       "3561 Bison6 NA    C16.7H31.4N0.000805O1.88 aq    thermofunc NA   10/31/2017\n",
       "     G         H         S        Cp       V        a1       a2       a3      \n",
       "3556 -13806.44 -169329.5 148.9488 393.6683 316.7395 6.339970 4562.869 87.93779\n",
       "3557 -19063.75 -170610.5 155.2701 388.8025 311.1325 6.236535 4459.324 85.76420\n",
       "3558 -45840.58 -182673.2 155.3465 354.2864 286.3650 5.757734 4058.638 77.46345\n",
       "3559 -43941.83 -179970.9 153.1273 351.9435 283.7197 5.702598 4026.191 76.80465\n",
       "3560 -35052.52 -162339.8 145.5541 335.2352 268.5442 5.364130 3897.432 74.23068\n",
       "3561 -38180.22 -160646.9 148.6266 329.2701 263.4714 5.322336 3669.687 69.44976\n",
       "     a4        c1       c2       omega     Z\n",
       "3556 -325956.1 385.7663 32052.23 -15073.28 0\n",
       "3557 -318564.9 381.2082 30760.37 -14583.35 0\n",
       "3558 -289400.4 347.3609 27943.31 -13536.17 0\n",
       "3559 -286898.9 344.9436 28257.16 -13651.43 0\n",
       "3560 -275825.4 326.8805 33948.67 -15803.91 0\n",
       "3561 -261498.9 323.3655 23623.52 -11984.63 0"
      ]
     },
     "metadata": {},
     "output_type": "display_data"
    }
   ],
   "source": [
    "# add 'hypothetical average lipid' properties\n",
    "suppressMessages(add.obigt(\"data/OBIGT_bison.csv\"))\n",
    "\n",
    "# check to see lipids have loaded properly\n",
    "info(info(c(\"Bison1\", \"Bison2\", \"Bison3\",\n",
    "            \"Bison4\", \"Bison5\", \"Bison6\")))"
   ]
  },
  {
   "cell_type": "code",
   "execution_count": 3,
   "metadata": {
    "slideshow": {
     "slide_type": "-"
    }
   },
   "outputs": [
    {
     "data": {
      "text/html": [
       "<table>\n",
       "<thead><tr><th></th><th scope=col>C</th><th scope=col>H</th><th scope=col>N</th><th scope=col>O</th><th scope=col>Z</th><th scope=col>ispecies</th><th scope=col>logact</th><th scope=col>state</th></tr></thead>\n",
       "<tbody>\n",
       "\t<tr><th scope=row>HCO3-</th><td>1      </td><td>1      </td><td>0      </td><td>3      </td><td>-1     </td><td>13     </td><td>-2.3655</td><td>aq     </td></tr>\n",
       "\t<tr><th scope=row>H2O</th><td>0      </td><td>2      </td><td>0      </td><td>1      </td><td> 0     </td><td> 1     </td><td> 0.0000</td><td>liq    </td></tr>\n",
       "\t<tr><th scope=row>H+</th><td>0      </td><td>1      </td><td>0      </td><td>0      </td><td> 1     </td><td> 3     </td><td>-7.2350</td><td>aq     </td></tr>\n",
       "\t<tr><th scope=row>e-</th><td>0      </td><td>0      </td><td>0      </td><td>0      </td><td>-1     </td><td> 2     </td><td>     NA</td><td>aq     </td></tr>\n",
       "\t<tr><th scope=row>NH4+</th><td>0      </td><td>4      </td><td>1      </td><td>0      </td><td> 1     </td><td>18     </td><td>-5.6034</td><td>aq     </td></tr>\n",
       "</tbody>\n",
       "</table>\n"
      ],
      "text/latex": [
       "\\begin{tabular}{r|llllllll}\n",
       "  & C & H & N & O & Z & ispecies & logact & state\\\\\n",
       "\\hline\n",
       "\tHCO3- & 1       & 1       & 0       & 3       & -1      & 13      & -2.3655 & aq     \\\\\n",
       "\tH2O & 0       & 2       & 0       & 1       &  0      &  1      &  0.0000 & liq    \\\\\n",
       "\tH+ & 0       & 1       & 0       & 0       &  1      &  3      & -7.2350 & aq     \\\\\n",
       "\te- & 0       & 0       & 0       & 0       & -1      &  2      &      NA & aq     \\\\\n",
       "\tNH4+ & 0       & 4       & 1       & 0       &  1      & 18      & -5.6034 & aq     \\\\\n",
       "\\end{tabular}\n"
      ],
      "text/markdown": [
       "\n",
       "| <!--/--> | C | H | N | O | Z | ispecies | logact | state | \n",
       "|---|---|---|---|---|\n",
       "| HCO3- | 1       | 1       | 0       | 3       | -1      | 13      | -2.3655 | aq      | \n",
       "| H2O | 0       | 2       | 0       | 1       |  0      |  1      |  0.0000 | liq     | \n",
       "| H+ | 0       | 1       | 0       | 0       |  1      |  3      | -7.2350 | aq      | \n",
       "| e- | 0       | 0       | 0       | 0       | -1      |  2      |      NA | aq      | \n",
       "| NH4+ | 0       | 4       | 1       | 0       |  1      | 18      | -5.6034 | aq      | \n",
       "\n",
       "\n"
      ],
      "text/plain": [
       "      C H N O Z  ispecies logact  state\n",
       "HCO3- 1 1 0 3 -1 13       -2.3655 aq   \n",
       "H2O   0 2 0 1  0  1        0.0000 liq  \n",
       "H+    0 1 0 0  1  3       -7.2350 aq   \n",
       "e-    0 0 0 0 -1  2            NA aq   \n",
       "NH4+  0 4 1 0  1 18       -5.6034 aq   "
      ]
     },
     "metadata": {},
     "output_type": "display_data"
    }
   ],
   "source": [
    "# set basis chemical species (logacts from EQ3, calculated separately)\n",
    "basis(c(\"HCO3-\", \"H2O\", \"H+\", \"e-\", \"NH4+\"),\n",
    "      c(-2.3655, 0, -7.235, NA, -5.6034))"
   ]
  },
  {
   "cell_type": "code",
   "execution_count": 4,
   "metadata": {
    "scrolled": true,
    "slideshow": {
     "slide_type": "-"
    }
   },
   "outputs": [
    {
     "data": {
      "text/html": [
       "<table>\n",
       "<thead><tr><th scope=col>HCO3-</th><th scope=col>H2O</th><th scope=col>H+</th><th scope=col>e-</th><th scope=col>NH4+</th><th scope=col>ispecies</th><th scope=col>logact</th><th scope=col>state</th><th scope=col>name</th></tr></thead>\n",
       "<tbody>\n",
       "\t<tr><td>19.7     </td><td>-57.70   </td><td>134.6689 </td><td>114.97669</td><td>0.00777  </td><td>3556     </td><td>-3       </td><td>aq       </td><td>Bison1   </td></tr>\n",
       "\t<tr><td>19.4     </td><td>-56.69   </td><td>132.3368 </td><td>112.94760</td><td>0.01080  </td><td>3557     </td><td>-3       </td><td>aq       </td><td>Bison2   </td></tr>\n",
       "\t<tr><td>17.7     </td><td>-51.21   </td><td>119.4836 </td><td>101.79273</td><td>0.00909  </td><td>3558     </td><td>-3       </td><td>aq       </td><td>Bison3   </td></tr>\n",
       "\t<tr><td>17.5     </td><td>-50.67   </td><td>118.4116 </td><td>100.91870</td><td>0.00710  </td><td>3559     </td><td>-3       </td><td>aq       </td><td>Bison4   </td></tr>\n",
       "\t<tr><td>16.7     </td><td>-48.45   </td><td>112.7977 </td><td> 96.09830</td><td>0.00057  </td><td>3560     </td><td>-3       </td><td>aq       </td><td>Bison5   </td></tr>\n",
       "\t<tr><td>16.7     </td><td>-48.22   </td><td>111.1368 </td><td> 94.43759</td><td>0.00080  </td><td>3561     </td><td>-3       </td><td>aq       </td><td>Bison6   </td></tr>\n",
       "</tbody>\n",
       "</table>\n"
      ],
      "text/latex": [
       "\\begin{tabular}{r|lllllllll}\n",
       " HCO3- & H2O & H+ & e- & NH4+ & ispecies & logact & state & name\\\\\n",
       "\\hline\n",
       "\t 19.7      & -57.70    & 134.6689  & 114.97669 & 0.00777   & 3556      & -3        & aq        & Bison1   \\\\\n",
       "\t 19.4      & -56.69    & 132.3368  & 112.94760 & 0.01080   & 3557      & -3        & aq        & Bison2   \\\\\n",
       "\t 17.7      & -51.21    & 119.4836  & 101.79273 & 0.00909   & 3558      & -3        & aq        & Bison3   \\\\\n",
       "\t 17.5      & -50.67    & 118.4116  & 100.91870 & 0.00710   & 3559      & -3        & aq        & Bison4   \\\\\n",
       "\t 16.7      & -48.45    & 112.7977  &  96.09830 & 0.00057   & 3560      & -3        & aq        & Bison5   \\\\\n",
       "\t 16.7      & -48.22    & 111.1368  &  94.43759 & 0.00080   & 3561      & -3        & aq        & Bison6   \\\\\n",
       "\\end{tabular}\n"
      ],
      "text/markdown": [
       "\n",
       "HCO3- | H2O | H+ | e- | NH4+ | ispecies | logact | state | name | \n",
       "|---|---|---|---|---|---|\n",
       "| 19.7      | -57.70    | 134.6689  | 114.97669 | 0.00777   | 3556      | -3        | aq        | Bison1    | \n",
       "| 19.4      | -56.69    | 132.3368  | 112.94760 | 0.01080   | 3557      | -3        | aq        | Bison2    | \n",
       "| 17.7      | -51.21    | 119.4836  | 101.79273 | 0.00909   | 3558      | -3        | aq        | Bison3    | \n",
       "| 17.5      | -50.67    | 118.4116  | 100.91870 | 0.00710   | 3559      | -3        | aq        | Bison4    | \n",
       "| 16.7      | -48.45    | 112.7977  |  96.09830 | 0.00057   | 3560      | -3        | aq        | Bison5    | \n",
       "| 16.7      | -48.22    | 111.1368  |  94.43759 | 0.00080   | 3561      | -3        | aq        | Bison6    | \n",
       "\n",
       "\n"
      ],
      "text/plain": [
       "  HCO3- H2O    H+       e-        NH4+    ispecies logact state name  \n",
       "1 19.7  -57.70 134.6689 114.97669 0.00777 3556     -3     aq    Bison1\n",
       "2 19.4  -56.69 132.3368 112.94760 0.01080 3557     -3     aq    Bison2\n",
       "3 17.7  -51.21 119.4836 101.79273 0.00909 3558     -3     aq    Bison3\n",
       "4 17.5  -50.67 118.4116 100.91870 0.00710 3559     -3     aq    Bison4\n",
       "5 16.7  -48.45 112.7977  96.09830 0.00057 3560     -3     aq    Bison5\n",
       "6 16.7  -48.22 111.1368  94.43759 0.00080 3561     -3     aq    Bison6"
      ]
     },
     "metadata": {},
     "output_type": "display_data"
    }
   ],
   "source": [
    "# set 'average lipids' as species of interest\n",
    "species(c(\"Bison1\", \"Bison2\", \"Bison3\", \"Bison4\", \"Bison5\", \"Bison6\"))"
   ]
  },
  {
   "cell_type": "code",
   "execution_count": 5,
   "metadata": {
    "scrolled": true,
    "slideshow": {
     "slide_type": "-"
    }
   },
   "outputs": [
    {
     "name": "stderr",
     "output_type": "stream",
     "text": [
      "energy.args: temperature is 89 C\n",
      "energy.args: pressure is Psat\n",
      "energy.args: variable 1 is Eh at 300 values from -0.55 to -0.25 V\n",
      "subcrt: 11 species at 362.15 K and 1 bar (wet)\n",
      "balance: from numeric argument value\n",
      "equilibrate: n.balance is 1 1 1 1 1 1\n",
      "equilibrate: loga.balance is -2.22184874961636\n",
      "equilibrate: using boltzmann method\n"
     ]
    }
   ],
   "source": [
    "# set resolution to 300 calculations\n",
    "res <- 300\n",
    "# calculate hyp. lipid affinities of formation at 89 degreesC\n",
    "a <-affinity(Eh=c(-0.55, -0.25, res), T=89.0)\n",
    "# calculate equilibrium chemical activities of lipids from affinities\n",
    "e <-equilibrate(a, balance=1)"
   ]
  },
  {
   "cell_type": "code",
   "execution_count": 6,
   "metadata": {
    "collapsed": true,
    "slideshow": {
     "slide_type": "-"
    }
   },
   "outputs": [],
   "source": [
    "# prepare 'average lipid' speciation output for plotting:\n",
    "x  <- round(seq(from = -0.55, to = -0.25, length.out = res), 5) #Eh\n",
    "y1 <- round(10^e$loga.equil[[1]]/10^e$loga.balance, 5)*100 #Bison1\n",
    "y2 <- round(10^e$loga.equil[[2]]/10^e$loga.balance, 5)*100 #Bison2\n",
    "y3 <- round(10^e$loga.equil[[3]]/10^e$loga.balance, 5)*100 #Bison3\n",
    "y4 <- round(10^e$loga.equil[[4]]/10^e$loga.balance, 5)*100 #Bison4\n",
    "y5 <- round(10^e$loga.equil[[5]]/10^e$loga.balance, 5)*100 #Bison5\n",
    "y6 <- round(10^e$loga.equil[[6]]/10^e$loga.balance, 5)*100 #Bison6"
   ]
  },
  {
   "cell_type": "code",
   "execution_count": 37,
   "metadata": {},
   "outputs": [
    {
     "data": {
      "image/png": "[encoded data removed]",
      "text/plain": [
       "plot without title"
      ]
     },
     "metadata": {},
     "output_type": "display_data"
    }
   ],
   "source": [
    "t <- data.frame(cbind(x, y1, y2, y3, y4, y5, y6))\n",
    "pal <- c(\"#1f77b4\", \"#ff7f0e\", \"#2ca02c\", \"#d62728\", \"#9467bd\", \"#8c564b\")\n",
    "\n",
    "library(ggplot2)\n",
    "p <- ggplot() +\n",
    "     theme(panel.background = element_blank()) +\n",
    "     labs(x = \"Eh, volts\", y = \"percent speciation\") +\n",
    "     geom_line(data=t, aes(x=x, y=y1, colour = \"Bison1\"), size=1) +\n",
    "     geom_line(data=t, aes(x=x, y=y2, colour = \"Bison2\"), size=1) +\n",
    "     geom_line(data=t, aes(x=x, y=y3, colour = \"Bison3\"), size=1) +\n",
    "     geom_line(data=t, aes(x=x, y=y4, colour = \"Bison4\"), size=1) +\n",
    "     geom_line(data=t, aes(x=x, y=y5, colour = \"Bison5\"), size=1) +\n",
    "     geom_line(data=t, aes(x=x, y=y6, colour = \"Bison6\"), size=1) +\n",
    "     scale_colour_manual(name = \"Site\", values = pal)\n",
    "\n",
    "print(p)"
   ]
  },
  {
   "cell_type": "markdown",
   "metadata": {
    "slideshow": {
     "slide_type": "-"
    }
   },
   "source": [
    "# Monte carlo simulations"
   ]
  },
  {
   "cell_type": "markdown",
   "metadata": {
    "slideshow": {
     "slide_type": "-"
    }
   },
   "source": [
    "Essentially adding random noise over repeated calculations to test robustness of thermodynamic predictions. Perform n times:\n",
    "1. randomly vary all lipid LC-MS peak areas by 20%\n",
    "2. randomly vary slopes of all lipid LC-MS standards by 99%\n",
    "3. calculate average chain properties\n",
    "4. calculate thermodynamic parameters\n",
    "5. calculate metastable equilibrium activities of chains\n",
    "\n",
    "Assemble iterative calculations into a single visual. Does it bear similarity to the 'canon' calculation?\n"
   ]
  },
  {
   "cell_type": "markdown",
   "metadata": {
    "slideshow": {
     "slide_type": "-"
    }
   },
   "source": [
    "# Run a monte carlo lipid thermo simulation"
   ]
  },
  {
   "cell_type": "code",
   "execution_count": 23,
   "metadata": {
    "slideshow": {
     "slide_type": "-"
    }
   },
   "outputs": [
    {
     "name": "stdout",
     "output_type": "stream",
     "text": [
      "   user  system elapsed \n",
      " 375.11    0.22  390.43 \n"
     ]
    }
   ],
   "source": [
    "options(warn=-1)\n",
    "a0 <- 'IPL_misc_func.r'\n",
    "a1 <- 'IPL_params_plot.r'\n",
    "a2 <- 'IPL_params_process.r'\n",
    "b <- 'IPL_process_func.r'\n",
    "c <- 'IPL_plot_func.r'\n",
    "d <- 'IPL_params_thermo.r'\n",
    "e1 <- 'IPL_thermo_func.r'\n",
    "f <- 'findHKF.r'\n",
    "h <- 'IPL_thermo_plot_func.r'\n",
    "z <- 'IPL_params_monte.r'\n",
    "home_path <- 'C:/Users/gmboy/Desktop/ASU/Research/Lipids/IPLs/IPL R Projects/IPL processing and thermo speciation R code/IPL-R-WIP'\n",
    "runme <- function(vec_of_files, path = home_path){\n",
    "  for(file in vec_of_files){\n",
    "    setwd(path); eval(parse(file(file))); on.exit(close(file(file)));\n",
    "  }\n",
    "}\n",
    "runme(c(a0, f, b, e1, d)) # call and run relevant scripts in order"
   ]
  },
  {
   "cell_type": "markdown",
   "metadata": {
    "slideshow": {
     "slide_type": "-"
    }
   },
   "source": [
    "# Plot output"
   ]
  },
  {
   "cell_type": "code",
   "execution_count": 21,
   "metadata": {
    "collapsed": true,
    "slideshow": {
     "slide_type": "-"
    }
   },
   "outputs": [],
   "source": [
    "# load thermo_monte results\n",
    "current_path <- getwd()\n",
    "path <- 'C:/Users/gmboy/Desktop/ASU/Research/Lipids/IPLs/IPL R Projects/IPL processing and thermo speciation R code/IPL-R-WIP'\n",
    "setwd(path)\n",
    "t <- readRDS(\"IPL_thermo_peak_area_RF_monte.rds\")\n",
    "t_9 <- readRDS(\"IPL_thermo_peak_area_RF_monte_9.rds\")\n",
    "t_99 <- readRDS(\"IPL_thermo_peak_area_RF_monte_99.rds\")\n",
    "t_999<- readRDS(\"IPL_thermo_peak_area_RF_monte_999.rds\")\n",
    "setwd(current_path)"
   ]
  },
  {
   "cell_type": "code",
   "execution_count": 22,
   "metadata": {
    "collapsed": true,
    "slideshow": {
     "slide_type": "-"
    }
   },
   "outputs": [],
   "source": [
    "t <- t_999 # use t, t_9, t_99, or t_999"
   ]
  },
  {
   "cell_type": "code",
   "execution_count": 23,
   "metadata": {
    "slideshow": {
     "slide_type": "-"
    }
   },
   "outputs": [
    {
     "name": "stderr",
     "output_type": "stream",
     "text": [
      "Warning message:\n",
      "\"package 'plotly' was built under R version 3.3.3\"Warning message:\n",
      "\"package 'repr' was built under R version 3.3.3\""
     ]
    },
    {
     "data": {
      "text/html": [
       "<ol>\n",
       "\t<li><ol class=list-inline>\n",
       "\t<li>'CHNOSZ'</li>\n",
       "\t<li>'ggplot2'</li>\n",
       "\t<li>'stats'</li>\n",
       "\t<li>'graphics'</li>\n",
       "\t<li>'grDevices'</li>\n",
       "\t<li>'utils'</li>\n",
       "\t<li>'datasets'</li>\n",
       "\t<li>'methods'</li>\n",
       "\t<li>'base'</li>\n",
       "</ol>\n",
       "</li>\n",
       "\t<li><ol class=list-inline>\n",
       "\t<li>'plotly'</li>\n",
       "\t<li>'CHNOSZ'</li>\n",
       "\t<li>'ggplot2'</li>\n",
       "\t<li>'stats'</li>\n",
       "\t<li>'graphics'</li>\n",
       "\t<li>'grDevices'</li>\n",
       "\t<li>'utils'</li>\n",
       "\t<li>'datasets'</li>\n",
       "\t<li>'methods'</li>\n",
       "\t<li>'base'</li>\n",
       "</ol>\n",
       "</li>\n",
       "\t<li><ol class=list-inline>\n",
       "\t<li>'plyr'</li>\n",
       "\t<li>'plotly'</li>\n",
       "\t<li>'CHNOSZ'</li>\n",
       "\t<li>'ggplot2'</li>\n",
       "\t<li>'stats'</li>\n",
       "\t<li>'graphics'</li>\n",
       "\t<li>'grDevices'</li>\n",
       "\t<li>'utils'</li>\n",
       "\t<li>'datasets'</li>\n",
       "\t<li>'methods'</li>\n",
       "\t<li>'base'</li>\n",
       "</ol>\n",
       "</li>\n",
       "\t<li><ol class=list-inline>\n",
       "\t<li>'reshape2'</li>\n",
       "\t<li>'plyr'</li>\n",
       "\t<li>'plotly'</li>\n",
       "\t<li>'CHNOSZ'</li>\n",
       "\t<li>'ggplot2'</li>\n",
       "\t<li>'stats'</li>\n",
       "\t<li>'graphics'</li>\n",
       "\t<li>'grDevices'</li>\n",
       "\t<li>'utils'</li>\n",
       "\t<li>'datasets'</li>\n",
       "\t<li>'methods'</li>\n",
       "\t<li>'base'</li>\n",
       "</ol>\n",
       "</li>\n",
       "\t<li><ol class=list-inline>\n",
       "\t<li>'repr'</li>\n",
       "\t<li>'reshape2'</li>\n",
       "\t<li>'plyr'</li>\n",
       "\t<li>'plotly'</li>\n",
       "\t<li>'CHNOSZ'</li>\n",
       "\t<li>'ggplot2'</li>\n",
       "\t<li>'stats'</li>\n",
       "\t<li>'graphics'</li>\n",
       "\t<li>'grDevices'</li>\n",
       "\t<li>'utils'</li>\n",
       "\t<li>'datasets'</li>\n",
       "\t<li>'methods'</li>\n",
       "\t<li>'base'</li>\n",
       "</ol>\n",
       "</li>\n",
       "</ol>\n"
      ],
      "text/latex": [
       "\\begin{enumerate}\n",
       "\\item \\begin{enumerate*}\n",
       "\\item 'CHNOSZ'\n",
       "\\item 'ggplot2'\n",
       "\\item 'stats'\n",
       "\\item 'graphics'\n",
       "\\item 'grDevices'\n",
       "\\item 'utils'\n",
       "\\item 'datasets'\n",
       "\\item 'methods'\n",
       "\\item 'base'\n",
       "\\end{enumerate*}\n",
       "\n",
       "\\item \\begin{enumerate*}\n",
       "\\item 'plotly'\n",
       "\\item 'CHNOSZ'\n",
       "\\item 'ggplot2'\n",
       "\\item 'stats'\n",
       "\\item 'graphics'\n",
       "\\item 'grDevices'\n",
       "\\item 'utils'\n",
       "\\item 'datasets'\n",
       "\\item 'methods'\n",
       "\\item 'base'\n",
       "\\end{enumerate*}\n",
       "\n",
       "\\item \\begin{enumerate*}\n",
       "\\item 'plyr'\n",
       "\\item 'plotly'\n",
       "\\item 'CHNOSZ'\n",
       "\\item 'ggplot2'\n",
       "\\item 'stats'\n",
       "\\item 'graphics'\n",
       "\\item 'grDevices'\n",
       "\\item 'utils'\n",
       "\\item 'datasets'\n",
       "\\item 'methods'\n",
       "\\item 'base'\n",
       "\\end{enumerate*}\n",
       "\n",
       "\\item \\begin{enumerate*}\n",
       "\\item 'reshape2'\n",
       "\\item 'plyr'\n",
       "\\item 'plotly'\n",
       "\\item 'CHNOSZ'\n",
       "\\item 'ggplot2'\n",
       "\\item 'stats'\n",
       "\\item 'graphics'\n",
       "\\item 'grDevices'\n",
       "\\item 'utils'\n",
       "\\item 'datasets'\n",
       "\\item 'methods'\n",
       "\\item 'base'\n",
       "\\end{enumerate*}\n",
       "\n",
       "\\item \\begin{enumerate*}\n",
       "\\item 'repr'\n",
       "\\item 'reshape2'\n",
       "\\item 'plyr'\n",
       "\\item 'plotly'\n",
       "\\item 'CHNOSZ'\n",
       "\\item 'ggplot2'\n",
       "\\item 'stats'\n",
       "\\item 'graphics'\n",
       "\\item 'grDevices'\n",
       "\\item 'utils'\n",
       "\\item 'datasets'\n",
       "\\item 'methods'\n",
       "\\item 'base'\n",
       "\\end{enumerate*}\n",
       "\n",
       "\\end{enumerate}\n"
      ],
      "text/markdown": [
       "1. 1. 'CHNOSZ'\n",
       "2. 'ggplot2'\n",
       "3. 'stats'\n",
       "4. 'graphics'\n",
       "5. 'grDevices'\n",
       "6. 'utils'\n",
       "7. 'datasets'\n",
       "8. 'methods'\n",
       "9. 'base'\n",
       "\n",
       "\n",
       "\n",
       "2. 1. 'plotly'\n",
       "2. 'CHNOSZ'\n",
       "3. 'ggplot2'\n",
       "4. 'stats'\n",
       "5. 'graphics'\n",
       "6. 'grDevices'\n",
       "7. 'utils'\n",
       "8. 'datasets'\n",
       "9. 'methods'\n",
       "10. 'base'\n",
       "\n",
       "\n",
       "\n",
       "3. 1. 'plyr'\n",
       "2. 'plotly'\n",
       "3. 'CHNOSZ'\n",
       "4. 'ggplot2'\n",
       "5. 'stats'\n",
       "6. 'graphics'\n",
       "7. 'grDevices'\n",
       "8. 'utils'\n",
       "9. 'datasets'\n",
       "10. 'methods'\n",
       "11. 'base'\n",
       "\n",
       "\n",
       "\n",
       "4. 1. 'reshape2'\n",
       "2. 'plyr'\n",
       "3. 'plotly'\n",
       "4. 'CHNOSZ'\n",
       "5. 'ggplot2'\n",
       "6. 'stats'\n",
       "7. 'graphics'\n",
       "8. 'grDevices'\n",
       "9. 'utils'\n",
       "10. 'datasets'\n",
       "11. 'methods'\n",
       "12. 'base'\n",
       "\n",
       "\n",
       "\n",
       "5. 1. 'repr'\n",
       "2. 'reshape2'\n",
       "3. 'plyr'\n",
       "4. 'plotly'\n",
       "5. 'CHNOSZ'\n",
       "6. 'ggplot2'\n",
       "7. 'stats'\n",
       "8. 'graphics'\n",
       "9. 'grDevices'\n",
       "10. 'utils'\n",
       "11. 'datasets'\n",
       "12. 'methods'\n",
       "13. 'base'\n",
       "\n",
       "\n",
       "\n",
       "\n",
       "\n"
      ],
      "text/plain": [
       "[[1]]\n",
       "[1] \"CHNOSZ\"    \"ggplot2\"   \"stats\"     \"graphics\"  \"grDevices\" \"utils\"    \n",
       "[7] \"datasets\"  \"methods\"   \"base\"     \n",
       "\n",
       "[[2]]\n",
       " [1] \"plotly\"    \"CHNOSZ\"    \"ggplot2\"   \"stats\"     \"graphics\"  \"grDevices\"\n",
       " [7] \"utils\"     \"datasets\"  \"methods\"   \"base\"     \n",
       "\n",
       "[[3]]\n",
       " [1] \"plyr\"      \"plotly\"    \"CHNOSZ\"    \"ggplot2\"   \"stats\"     \"graphics\" \n",
       " [7] \"grDevices\" \"utils\"     \"datasets\"  \"methods\"   \"base\"     \n",
       "\n",
       "[[4]]\n",
       " [1] \"reshape2\"  \"plyr\"      \"plotly\"    \"CHNOSZ\"    \"ggplot2\"   \"stats\"    \n",
       " [7] \"graphics\"  \"grDevices\" \"utils\"     \"datasets\"  \"methods\"   \"base\"     \n",
       "\n",
       "[[5]]\n",
       " [1] \"repr\"      \"reshape2\"  \"plyr\"      \"plotly\"    \"CHNOSZ\"    \"ggplot2\"  \n",
       " [7] \"stats\"     \"graphics\"  \"grDevices\" \"utils\"     \"datasets\"  \"methods\"  \n",
       "[13] \"base\"     \n"
      ]
     },
     "metadata": {},
     "output_type": "display_data"
    },
    {
     "name": "stderr",
     "output_type": "stream",
     "text": [
      "We recommend that you use the dev version of ggplot2 with `ggplotly()`\n",
      "Install it with: `devtools::install_github('hadley/ggplot2')`\n"
     ]
    },
    {
     "data": {
      "text/html": [
       "'done!'"
      ],
      "text/latex": [
       "'done!'"
      ],
      "text/markdown": [
       "'done!'"
      ],
      "text/plain": [
       "[1] \"done!\""
      ]
     },
     "metadata": {},
     "output_type": "display_data"
    }
   ],
   "source": [
    "# load libraries\n",
    "all_libs <- c('ggplot2', 'plotly', 'plyr', 'reshape2', 'repr')\n",
    "suppressMessages(lapply(all_libs, library, character.only = TRUE))\n",
    "\n",
    "# Set aspect ratio for displayed plots\n",
    "options(repr.plot.width=10, repr.plot.height=5)\n",
    "\n",
    "# Define x and y variables\n",
    "number_of_ys <- ncol(t)-1\n",
    "for(i in 1:number_of_ys){\n",
    "  var_name <- paste(\"y\", i, sep=\"\")\n",
    "  assign(var_name, t[var_name])\n",
    "}\n",
    "x  <- t$x[seq(1, nrow(y1))]\n",
    "\n",
    "# Set color palette\n",
    "pal <- c(\"#1f77b4\", \"#ff7f0e\", \"#2ca02c\", \"#d62728\", \"#9467bd\", \"#8c564b\")\n",
    "pal_list_to_eval <- \"c(\"\n",
    "for(i in 1:number_of_ys-1){\n",
    "  pal_list_to_eval <- paste(pal_list_to_eval,\n",
    "    \"OF\", i, \" = pal[\", i, \"], \", sep=\"\")\n",
    "}\n",
    "pal_list_to_eval <- paste(pal_list_to_eval, \"OF\",\n",
    "  number_of_ys, \" = pal[\", number_of_ys, \"])\", sep=\"\")\n",
    "\n",
    "# Set up ggplot of monte carlo datapoints\n",
    "p_point <- ggplot(t, aes(x = x, y = y1)) +\n",
    "     theme(panel.background = element_blank()) +\n",
    "     labs(x = \"Eh, volts\", y = \"percent speciation\")\n",
    "\n",
    "for(i in 1:number_of_ys){\n",
    "  var_name = paste(\"y\", i, sep=\"\")\n",
    "  site_name <- paste(\"OF\", i, sep=\"\")\n",
    "  p_point <- p_point + geom_point(data=t,\n",
    "    aes_string(x=\"x\", y=var_name, colour = shQuote(site_name)),\n",
    "    inherit.aes=FALSE)\n",
    "}\n",
    "\n",
    "p_point <- p_point + scale_colour_manual(name = \"Site\",\n",
    "  values = eval(parse(text = pal_list_to_eval)))\n",
    "\n",
    "\n",
    "# Define function to clean and prepare a data frame for plotly/ggplot plotting\n",
    "clean <- function(y_to_plot){\n",
    "  # remove entries with NA or NaN for y\n",
    "  y_to_plot <- y_to_plot[complete.cases(y_to_plot),]\n",
    "  # convert to a data frame, which can undergo binning\n",
    "  y_to_plot <- as.data.frame(y_to_plot)\n",
    "  return(y_to_plot)\n",
    "}\n",
    "\n",
    "# bind and clean up x and y of interest\n",
    "for(i in 1:number_of_ys){\n",
    "  var_name <- paste(\"y\", i, \"_to_plot\", sep=\"\")\n",
    "  assign(var_name, cbind(x = t$x, y = as.vector(unlist(t[paste(\"y\", i, sep=\"\")]))))\n",
    "  assign(var_name, clean(get(var_name))) # cleans out incomplete x-y cases\n",
    "  assign(var_name, cbind(get(var_name), site = paste(\"OF\", i, sep=\"\")))\n",
    "}\n",
    "y_to_plot <- y1_to_plot # initialize vector\n",
    "for(i in 2:number_of_ys){\n",
    "  var_name <- paste(\"y\", i, \"_to_plot\", sep=\"\")\n",
    "  y_to_plot <- rbind(y_to_plot, get(var_name))\n",
    "}\n",
    "y_to_plot <- as.data.frame(y_to_plot)\n",
    "\n",
    "# Set up boxplot in ggplot\n",
    "  p_box <- ggplot(y_to_plot,\n",
    "      aes(x = factor(round_any(x, 0.01)), y = y, fill = site)) +\n",
    "      geom_boxplot(outlier.alpha = 0) +\n",
    "      labs(x = \"Eh, volts\", y = \"percent speciation\") +\n",
    "      theme(axis.text.x = element_text(angle = -90, vjust = 0.4, hjust = 1), panel.background = element_blank()) +\n",
    "      scale_x_discrete(breaks = round(seq(min(y_to_plot$x),\n",
    "        max(y_to_plot$x),by = 0.05), 2))\n",
    "  p_box <- p_box + scale_fill_manual(name = \"Site\", values = eval(parse(text = pal_list_to_eval)))\n",
    "\n",
    "# Set up boxplot in plotly\n",
    "p_box_interactive <- ggplotly(p_box)\n",
    "\n",
    "# Remove outlier points from plotly plot (massive visual clutter)\n",
    "for(i in 1:number_of_ys){\n",
    "    p_box_interactive$x$data[[i]]$marker$opacity <- 0\n",
    "}\n",
    "\n",
    "\"done!\""
   ]
  },
  {
   "cell_type": "code",
   "execution_count": 24,
   "metadata": {
    "slideshow": {
     "slide_type": "-"
    }
   },
   "outputs": [
    {
     "data": {
      "image/png": "[encoded data removed]",
      "text/plain": [
       "plot without title"
      ]
     },
     "metadata": {},
     "output_type": "display_data"
    }
   ],
   "source": [
    "print(p_point)"
   ]
  },
  {
   "cell_type": "code",
   "execution_count": 25,
   "metadata": {
    "slideshow": {
     "slide_type": "-"
    }
   },
   "outputs": [
    {
     "data": {
      "image/png": "[encoded data removed]",
      "text/plain": [
       "plot without title"
      ]
     },
     "metadata": {},
     "output_type": "display_data"
    }
   ],
   "source": [
    "print(p_box)"
   ]
  },
  {
   "cell_type": "code",
   "execution_count": null,
   "metadata": {
    "collapsed": true
   },
   "outputs": [],
   "source": []
  }
 ],
 "metadata": {
  "celltoolbar": "Slideshow",
  "hide_input": false,
  "kernelspec": {
   "display_name": "R",
   "language": "R",
   "name": "ir"
  },
  "language_info": {
   "codemirror_mode": "r",
   "file_extension": ".r",
   "mimetype": "text/x-r-source",
   "name": "R",
   "pygments_lexer": "r",
   "version": "3.3.2"
  }
 },
 "nbformat": 4,
 "nbformat_minor": 2
}
