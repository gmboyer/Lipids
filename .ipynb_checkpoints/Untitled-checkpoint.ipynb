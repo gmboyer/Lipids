{
 "cells": [
  {
   "cell_type": "code",
   "execution_count": 1,
   "metadata": {
    "collapsed": true
   },
   "outputs": [],
   "source": [
    "from ipywidgets import *\n",
    "from IPython.display import display\n",
    "import matplotlib.pyplot as plt\n",
    "# Hide warnings if there are any\n",
    "import warnings\n",
    "warnings.filterwarnings('ignore')\n",
    "# Load in the r magic\n",
    "import rpy2.rinterface\n",
    "%load_ext rpy2.ipython"
   ]
  },
  {
   "cell_type": "code",
   "execution_count": 40,
   "metadata": {
    "collapsed": false
   },
   "outputs": [
    {
     "data": {
      "text/plain": [
       "array(['thermo'], \n",
       "      dtype='|S6')"
      ]
     },
     "execution_count": 40,
     "metadata": {},
     "output_type": "execute_result"
    }
   ],
   "source": [
    "%R library(CHNOSZ)\n",
    "%R data(thermo)"
   ]
  },
  {
   "cell_type": "code",
   "execution_count": 41,
   "metadata": {
    "collapsed": false
   },
   "outputs": [],
   "source": [
    "%%R\n",
    "add.obigt(\"C:/Program Files/R/R-3.2.5/library/CHNOSZ/extdata/thermo/OBIGT-2.csv\")"
   ]
  },
  {
   "cell_type": "code",
   "execution_count": 42,
   "metadata": {
    "collapsed": false
   },
   "outputs": [
    {
     "data": {
      "image/png": "[encoded data removed]"
     },
     "metadata": {},
     "output_type": "display_data"
    }
   ],
   "source": [
    "%%R\n",
    "basis(c(\"Al+3\", \"H4SiO4\", \"K+\", \"H2O\", \"H+\", \"O2\"), c(0, -6, -6, 0, 0, 0))\n",
    "species(c(\"k-feldspar\", \"muscovite\", \"pyrophyllite\", \"kaolinite\", \"gibbsite\"))\n",
    "a <- affinity(H4SiO4=c(-6, -2), \"K+\"=c(-3, 8))\n",
    "diagram(a, fill=\"heat\")\n",
    "ncalcs <- 250\n",
    "basis(\"pH\", 4)\n",
    "species(1:5, c(-4, rep(-999, 4)))\n",
    "tr <- transfer(ncalcs, dmode=\"coupled\", plot=c(2, 3), devmax=1, alphamax=-1.5)"
   ]
  },
  {
   "cell_type": "code",
   "execution_count": 50,
   "metadata": {
    "collapsed": false
   },
   "outputs": [],
   "source": [
    "%%R\n",
    "library(CHNOSZ)\n",
    "data(thermo)\n",
    "add.obigt(\"C:/Program Files/R/R-3.2.5/library/CHNOSZ/extdata/thermo/OBIGT-2.csv\")"
   ]
  },
  {
   "cell_type": "code",
   "execution_count": 54,
   "metadata": {
    "collapsed": false
   },
   "outputs": [
    {
     "data": {
      "image/png": "[encoded data removed]"
     },
     "metadata": {},
     "output_type": "display_data"
    }
   ],
   "source": [
    "%%R\n",
    "basis(c(\"Al+3\", \"H4SiO4\", \"K+\", \"H2O\", \"H+\", \"O2\"), c(0, -6, -6, 0, 0, 0))\n",
    "species(c(\"k-feldspar\", \"muscovite\", \"pyrophyllite\", \"kaolinite\", \"gibbsite\"))\n",
    "a <- affinity(H4SiO4=c(-6, -2), \"K+\"=c(-3, 8))\n",
    "diagram(a, fill=\"heat\")\n",
    "xcoords <- c()\n",
    "ycoords <- c()\n",
    "for(x in 1:ncalcs){\n",
    "  #y-axis is actually log(aK+/aH+) = log(aK+) - log(aH+)\n",
    "  K <- tr$basis[\"K+\",paste(\"X\", x, sep=\"\")] - tr$basis[\"H+\",paste(\"X\", x, sep=\"\")] \n",
    "  H4SiO4 <- tr$basis[\"H4SiO4\",paste(\"X\", x, sep=\"\")]\n",
    "  if (is.numeric(K) == TRUE & is.numeric(H4SiO4) == TRUE){\n",
    "    xcoords <- c(xcoords, H4SiO4)\n",
    "    ycoords <- c(ycoords, K)\n",
    "  }\n",
    "}\n",
    "points(xcoords, ycoords)"
   ]
  },
  {
   "cell_type": "code",
   "execution_count": 78,
   "metadata": {
    "collapsed": true
   },
   "outputs": [],
   "source": [
    "xcoords = %R xcoords\n",
    "ycoords = %R ycoords"
   ]
  },
  {
   "cell_type": "code",
   "execution_count": 117,
   "metadata": {
    "collapsed": false
   },
   "outputs": [],
   "source": [
    "def interact_react(Xi):\n",
    "    plt.plot(xcoords, ycoords)\n",
    "    plt.plot(xcoords[Xi], ycoords[Xi], marker='s', linestyle='-', color='k')\n",
    "    plt.xlabel('logaH4SiO4')\n",
    "    plt.ylabel('logaK+')\n",
    "    plt.show()\n",
    "    print xcoords[Xi], \"logaH4SiO4\"\n",
    "    print ycoords[Xi], \"logaK+\""
   ]
  },
  {
   "cell_type": "code",
   "execution_count": 118,
   "metadata": {
    "collapsed": false
   },
   "outputs": [
    {
     "data": {
      "image/png": "[encoded data removed]",
      "text/plain": [
       "<matplotlib.figure.Figure at 0x10ceaa58>"
      ]
     },
     "metadata": {},
     "output_type": "display_data"
    },
    {
     "name": "stdout",
     "output_type": "stream",
     "text": [
      "-5.99999985668 logaH4SiO4\n",
      "-1.99999995175 logaK+\n"
     ]
    }
   ],
   "source": [
    "w = interact(interact_react, Xi=(1,len(xcoords)-1))"
   ]
  },
  {
   "cell_type": "code",
   "execution_count": 95,
   "metadata": {
    "collapsed": false
   },
   "outputs": [
    {
     "data": {
      "text/plain": [
       "<function __main__.interact_react>"
      ]
     },
     "execution_count": 95,
     "metadata": {},
     "output_type": "execute_result"
    }
   ],
   "source": []
  },
  {
   "cell_type": "code",
   "execution_count": null,
   "metadata": {
    "collapsed": true
   },
   "outputs": [],
   "source": []
  }
 ],
 "metadata": {
  "hide_input": false,
  "kernelspec": {
   "display_name": "Python 2",
   "language": "python",
   "name": "python2"
  },
  "language_info": {
   "codemirror_mode": {
    "name": "ipython",
    "version": 2
   },
   "file_extension": ".py",
   "mimetype": "text/x-python",
   "name": "python",
   "nbconvert_exporter": "python",
   "pygments_lexer": "ipython2",
   "version": "2.7.13"
  },
  "widgets": {
   "state": {
    "c109a3f63da6449a97210119da163577": {
     "views": [
      {
       "cell_index": 8
      }
     ]
    }
   },
   "version": "1.2.0"
  }
 },
 "nbformat": 4,
 "nbformat_minor": 2
}
