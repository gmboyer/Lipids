{
 "cells": [
  {
   "cell_type": "markdown",
   "metadata": {
    "slideshow": {
     "slide_type": "-"
    }
   },
   "source": [
    "# Thermodynamic modeling of lipid adaptation in thermophilic microbes\n",
    "\n",
    "### Grayson Boyer\n",
    "### Arizona State University"
   ]
  },
  {
   "cell_type": "markdown",
   "metadata": {
    "slideshow": {
     "slide_type": "-"
    }
   },
   "source": [
    "<img src=\"images/bisonpicsmall.jpg\" style=\"float: left; width: 50%; margin-right: 1%; margin-bottom: 0.5em;\">\n",
    "<img src=\"images/bison_map.png\" style=\"float: left; width: 40%; margin-right: 1%; margin-bottom: 0.5em;\">\n",
    "<p style=\"clear: both;\">"
   ]
  },
  {
   "cell_type": "markdown",
   "metadata": {
    "slideshow": {
     "slide_type": "-"
    }
   },
   "source": [
    "$$Lipids\\ of\\ site\\ 1_{(aq)} + CO_{2(aq)} + H_{(aq)}^+ + e_{(aq)}^- = Lipids\\ of\\ site\\ 2_{(aq)} + H_2O_{(liq)}$$"
   ]
  },
  {
   "cell_type": "markdown",
   "metadata": {
    "slideshow": {
     "slide_type": "-"
    }
   },
   "source": [
    "<center><img src=\"images/lipid_example.png\" height=\"700\" width=\"700\"></center>"
   ]
  },
  {
   "cell_type": "markdown",
   "metadata": {
    "slideshow": {
     "slide_type": "-"
    }
   },
   "source": [
    "Site          | % ester bond  | ave. length   | ave. double bonds | % hydroxyl.\n",
    "------------- | ------------: | ------------: | ----------------: |----------------:\n",
    "Bison Pool 1  | 27            |  19.8         | 0.16              | 0.9\n",
    "Bison Pool 2  | 42            |  19.4         | 0.18              | 1.4\n",
    "Bison Pool 3  | 74            |  17.9         | 0.17              | 2.1\n",
    "Bison Pool 4  | 55            |  17.3         | 0.17              | 1.5\n",
    "Bison Pool 5  | 85            |  16.8         | 0.27              | 2.6\n",
    "Bison Pool 6  | 97            |  16.7         | 0.41              | 0.3"
   ]
  },
  {
   "cell_type": "markdown",
   "metadata": {
    "slideshow": {
     "slide_type": "-"
    }
   },
   "source": [
    "<center><img src=\"images/Bison1RepLipid.png\" height=\"700\" width=\"700\"></center>"
   ]
  },
  {
   "cell_type": "markdown",
   "metadata": {
    "slideshow": {
     "slide_type": "-"
    }
   },
   "source": [
    "<center><img src=\"images/chaincomparison.png\" height=\"700\" width=\"700\"></center>"
   ]
  },
  {
   "cell_type": "markdown",
   "metadata": {
    "slideshow": {
     "slide_type": "-"
    }
   },
   "source": [
    "| lipid part     \t| sample chain \t| strategy                            \t| data used                                                                      \t|\n",
    "|:----------------\t|:--------------\t|:-------------------------------------\t|:--------------------------------------------------------------------------------\t|\n",
    "| *straight-chain* \t|              \t| *linear regression of…*               \t|                                                                                \t|\n",
    "| C-C            \t| a            \t| n-alkanes                           \t| C3 to C14                                                                      \t|\n",
    "| ether          \t| b            \t| 1-alcohols                          \t| C3 to C12                                                                      \t|\n",
    "| ester          \t| g            \t| carboxylic acids                    \t| C3 to C12                                                                      \t|\n",
    "|                \t|              \t|                                     \t|                                                                                \t|\n",
    "| *modification*   \t|              \t| *add properties of…*                  \t|                                                                                \t|\n",
    "| unsaturation   \t| g to h       \t| 2-alkenes - alkanes                 \t| 2-(pent, hex)ene                                                               \t|\n",
    "| hydroxyl       \t| g to i       \t| 2-alcohols - alkanes                \t| 2-hept, 3-(pent, hex, hept), 4-heptanol                                        \t|\n",
    "| branch         \t| b to c (x4)  \t| banched - nonbranched alkanes       \t| 2-methyl(prop, but, pent, hex, oct), 3-methyl(pent, hex, hept), 4-methyloctane \t|\n",
    "| pentane ring   \t| d to e       \t| cyclopentanes - n-alkanes           \t| (methyl, propyl, pentyl)cyclopentane                                           \t|\n",
    "| hexane ring    \t| not pictured \t| 1,1,3-trimethylcyclohexane - decane \t| 1,1,3-trimethylcyclohexane                                                     \t|\n",
    "| half monolayer \t| c to d       \t| [CH2] - [CH3]                       \t| CH2 and CH3 contribution of n-alkanes, C3 to C14                               \t|\n",
    "| amide          \t| g to f       \t| [CONH2] - [COOH]                    \t| amino acid backbone contributions                                                                        \t|\n"
   ]
  },
  {
   "cell_type": "markdown",
   "metadata": {
    "collapsed": true,
    "slideshow": {
     "slide_type": "-"
    }
   },
   "source": [
    "- 'Assemble' lipid thermo properties using group additivity methods\n",
    "\\begin{align}\n",
    "& \\Delta _hG^{\\circ}_{(aq)} && = -2499\\ cal \\cdot mol^{-1} \\\\\n",
    "& \\Delta _fG^{\\circ}_{(aq)} && = -10781\\ cal \\cdot mol^{-1} \\\\\n",
    "& \\Delta _fH^{\\circ}_{(aq)} && = -170234\\ cal \\cdot mol^{-1} \\\\\n",
    "& S^{\\circ}_{(aq)} && = \\ \\ 145.5\\ cal \\cdot mol^{-1} K^{-1} \\\\\n",
    "& Cp^{\\circ}_{2} && = \\ \\ 396.7\\ cal \\cdot mol^{-1} K^{-1} \\\\\n",
    "& V^{\\circ}_{2} && = \\ \\ 320.9\\ cm^{3} \\cdot mol^{-1} \\\\\n",
    "\\end{align}"
   ]
  },
  {
   "cell_type": "markdown",
   "metadata": {
    "slideshow": {
     "slide_type": "-"
    }
   },
   "source": [
    "Site    | % ester bond  | ave. C length   | ave. double bonds | hypoth. lipid formula\n",
    "------------- | ------------: | ------------: | ----------------: |--------------:\n",
    "Bison Pool 1  | 27            |  19.8         | 0.16              | C<sub>19.8</sub>H<sub>39.8</sub>O<sub>1.3</sub>N<sub>0.01</sub>\n",
    "Bison Pool 2  | 42            |  19.4         | 0.18              | C<sub>19.4</sub>H<sub>38.9</sub>O<sub>1.4</sub>N<sub>0.02</sub>\n",
    "Bison Pool 3  | 74            |  17.9         | 0.17              | C<sub>17.9</sub>H<sub>35.8</sub>O<sub>1.7</sub>N<sub>0.02</sub>\n",
    "Bison Pool 4  | 55            |  17.3         | 0.17              | C<sub>17.3</sub>H<sub>35.1</sub>O<sub>1.6</sub>N<sub>0.01</sub>\n",
    "Bison Pool 5  | 85            |  16.8         | 0.27              | C<sub>16.9</sub>H<sub>33.4</sub>O<sub>1.8</sub>N<sub>0.003</sub>\n",
    "Bison Pool 6  | 97           |  16.7         | 0.41              | C<sub>16.7</sub>H<sub>32.6</sub>O<sub>2.0</sub>N<sub>0.003</sub>"
   ]
  },
  {
   "cell_type": "markdown",
   "metadata": {
    "slideshow": {
     "slide_type": "-"
    }
   },
   "source": [
    "- Use these properties to estimate HKF equation-of-state coefficients (Plyasunov and Shock, 2001):\n",
    "\\begin{align}\n",
    "& a_1 \\cdot 10 && =  \\ \\ 64.4\\ cal \\cdot mol^{-1} bar^{-1} \\\\\n",
    "& a_2 \\cdot 10^{-2} && =  \\ \\ 45.8\\ cal \\cdot mol^{-1} \\\\\n",
    "& a_3 && =  \\ \\ 88\\ cal \\cdot K \\cdot mol^{-1} bar^{-1} \\\\\n",
    "& a_4 \\cdot 10^{-4} && = -32.8\\ cal \\cdot K \\cdot mol^{-1} \\\\\n",
    "& c_1 && =  \\ \\ 389.3\\ cal \\cdot K^{-1} mol^{-1} \\\\\n",
    "& c_2 \\cdot 10^{-4} && =  \\ \\ 3.0\\ cal \\cdot K \\cdot mol^{-1} \\\\\n",
    "& \\omega \\cdot 10^{-5} && = -0.142\\ cal \\cdot mol^{-1}\n",
    "\\end{align}\n",
    "\n",
    "- Repeat for each 'hypothetical average lipid' along Bison Pool"
   ]
  },
  {
   "cell_type": "code",
   "execution_count": 1,
   "metadata": {
    "collapsed": true,
    "slideshow": {
     "slide_type": "-"
    }
   },
   "outputs": [],
   "source": [
    "# install necessary packages\n",
    "# install.packages('plotly', repos='http://cran.us.r-project.org')\n",
    "# install.packages('CHNOSZ', repos='http://cran.us.r-project.org')\n",
    "# install.packages('ggplot2', repos='http://cran.us.r-project.org')\n",
    "# install.packages('repr', repos='http://cran.us.r-project.org')"
   ]
  },
  {
   "cell_type": "code",
   "execution_count": 1,
   "metadata": {
    "collapsed": true,
    "slideshow": {
     "slide_type": "-"
    }
   },
   "outputs": [],
   "source": [
    "# turn off warning messages\n",
    "options(warn=-1)\n",
    "\n",
    "# load package for plotting\n",
    "suppressMessages(library(ggplot2))\n",
    "suppressMessages(library(plotly))\n",
    "\n",
    "# load package for thermo calcs\n",
    "suppressMessages(library(CHNOSZ))\n",
    "# load database\n",
    "suppressMessages(data(thermo))"
   ]
  },
  {
   "cell_type": "code",
   "execution_count": 2,
   "metadata": {
    "slideshow": {
     "slide_type": "-"
    }
   },
   "outputs": [
    {
     "data": {
      "text/html": [
       "<table>\n",
       "<thead><tr><th></th><th scope=col>name</th><th scope=col>abbrv</th><th scope=col>formula</th><th scope=col>state</th><th scope=col>ref1</th><th scope=col>ref2</th><th scope=col>date</th><th scope=col>G</th><th scope=col>H</th><th scope=col>S</th><th scope=col>Cp</th><th scope=col>V</th><th scope=col>a1</th><th scope=col>a2</th><th scope=col>a3</th><th scope=col>a4</th><th scope=col>c1</th><th scope=col>c2</th><th scope=col>omega</th><th scope=col>Z</th></tr></thead>\n",
       "<tbody>\n",
       "\t<tr><th scope=row>3556</th><td>Bison1                 </td><td>NA                     </td><td>C19.8H39.8N0.0111O1.28 </td><td>aq                     </td><td>thermofunc             </td><td>NA                     </td><td>9/4/2017               </td><td>-10781.23              </td><td>-170233.5              </td><td>145.5349               </td><td>396.6977               </td><td>320.8951               </td><td>6.438050               </td><td>4584.164               </td><td>88.30496               </td><td>-328092.0              </td><td>389.3006               </td><td>29930.68               </td><td>-14271.937             </td><td>0                      </td></tr>\n",
       "\t<tr><th scope=row>3557</th><td>Bison2                 </td><td>NA                     </td><td>C19.4H38.9N0.0163O1.43 </td><td>aq                     </td><td>thermofunc             </td><td>NA                     </td><td>9/4/2017               </td><td>-19210.39              </td><td>-174396.0              </td><td>149.0382               </td><td>390.1793               </td><td>314.4644               </td><td>6.327388               </td><td>4444.776               </td><td>85.35275               </td><td>-318381.7              </td><td>383.4149               </td><td>27263.33               </td><td>-13287.665             </td><td>0                      </td></tr>\n",
       "\t<tr><th scope=row>3558</th><td>Bison3                 </td><td>NA                     </td><td>C17.9H35.8N0.0233O1.75 </td><td>aq                     </td><td>thermofunc             </td><td>NA                     </td><td>9/4/2017               </td><td>-40727.08              </td><td>-182355.0              </td><td>152.0471               </td><td>360.5633               </td><td>291.6853               </td><td>5.908717               </td><td>4020.106               </td><td>76.51127               </td><td>-288304.4              </td><td>355.2643               </td><td>21048.66               </td><td>-11089.609             </td><td>0                      </td></tr>\n",
       "\t<tr><th scope=row>3559</th><td>Bison4                 </td><td>NA                     </td><td>C17.3H35.1N0.015O1.57  </td><td>aq                     </td><td>thermofunc             </td><td>NA                     </td><td>9/4/2017               </td><td>-31752.13              </td><td>-170460.3              </td><td>145.4821               </td><td>352.1583               </td><td>282.5387               </td><td>5.713584               </td><td>3919.539               </td><td>74.51156               </td><td>-280391.3              </td><td>346.4849               </td><td>22641.38               </td><td>-11640.677             </td><td>0                      </td></tr>\n",
       "\t<tr><th scope=row>3560</th><td>Bison5                 </td><td>NA                     </td><td>C16.9H33.4N0.00258O1.82</td><td>aq                     </td><td>thermofunc             </td><td>NA                     </td><td>9/4/2017               </td><td>-46288.00              </td><td>-178337.5              </td><td>146.5631               </td><td>340.1394               </td><td>275.0101               </td><td>5.576146               </td><td>3776.768               </td><td>71.56509               </td><td>-270375.1              </td><td>335.0440               </td><td>20181.23               </td><td>-10792.925             </td><td>0                      </td></tr>\n",
       "\t<tr><th scope=row>3561</th><td>Bison6                 </td><td>NA                     </td><td>C16.7H32.6N0.00324O1.96</td><td>aq                     </td><td>thermofunc             </td><td>NA                     </td><td>9/4/2017               </td><td>-51818.17              </td><td>-180223.8              </td><td>149.4642               </td><td>333.1495               </td><td>270.2997               </td><td>5.507876               </td><td>3641.560               </td><td>68.74549               </td><td>-261476.4              </td><td>329.1314               </td><td>15576.30               </td><td> -9257.197             </td><td>0                      </td></tr>\n",
       "</tbody>\n",
       "</table>\n"
      ],
      "text/latex": [
       "\\begin{tabular}{r|llllllllllllllllllll}\n",
       "  & name & abbrv & formula & state & ref1 & ref2 & date & G & H & S & Cp & V & a1 & a2 & a3 & a4 & c1 & c2 & omega & Z\\\\\n",
       "\\hline\n",
       "\t3556 & Bison1                  & NA                      & C19.8H39.8N0.0111O1.28  & aq                      & thermofunc              & NA                      & 9/4/2017                & -10781.23               & -170233.5               & 145.5349                & 396.6977                & 320.8951                & 6.438050                & 4584.164                & 88.30496                & -328092.0               & 389.3006                & 29930.68                & -14271.937              & 0                      \\\\\n",
       "\t3557 & Bison2                  & NA                      & C19.4H38.9N0.0163O1.43  & aq                      & thermofunc              & NA                      & 9/4/2017                & -19210.39               & -174396.0               & 149.0382                & 390.1793                & 314.4644                & 6.327388                & 4444.776                & 85.35275                & -318381.7               & 383.4149                & 27263.33                & -13287.665              & 0                      \\\\\n",
       "\t3558 & Bison3                  & NA                      & C17.9H35.8N0.0233O1.75  & aq                      & thermofunc              & NA                      & 9/4/2017                & -40727.08               & -182355.0               & 152.0471                & 360.5633                & 291.6853                & 5.908717                & 4020.106                & 76.51127                & -288304.4               & 355.2643                & 21048.66                & -11089.609              & 0                      \\\\\n",
       "\t3559 & Bison4                  & NA                      & C17.3H35.1N0.015O1.57   & aq                      & thermofunc              & NA                      & 9/4/2017                & -31752.13               & -170460.3               & 145.4821                & 352.1583                & 282.5387                & 5.713584                & 3919.539                & 74.51156                & -280391.3               & 346.4849                & 22641.38                & -11640.677              & 0                      \\\\\n",
       "\t3560 & Bison5                  & NA                      & C16.9H33.4N0.00258O1.82 & aq                      & thermofunc              & NA                      & 9/4/2017                & -46288.00               & -178337.5               & 146.5631                & 340.1394                & 275.0101                & 5.576146                & 3776.768                & 71.56509                & -270375.1               & 335.0440                & 20181.23                & -10792.925              & 0                      \\\\\n",
       "\t3561 & Bison6                  & NA                      & C16.7H32.6N0.00324O1.96 & aq                      & thermofunc              & NA                      & 9/4/2017                & -51818.17               & -180223.8               & 149.4642                & 333.1495                & 270.2997                & 5.507876                & 3641.560                & 68.74549                & -261476.4               & 329.1314                & 15576.30                &  -9257.197              & 0                      \\\\\n",
       "\\end{tabular}\n"
      ],
      "text/markdown": [
       "\n",
       "| <!--/--> | name | abbrv | formula | state | ref1 | ref2 | date | G | H | S | Cp | V | a1 | a2 | a3 | a4 | c1 | c2 | omega | Z | \n",
       "|---|---|---|---|---|---|\n",
       "| 3556 | Bison1                  | NA                      | C19.8H39.8N0.0111O1.28  | aq                      | thermofunc              | NA                      | 9/4/2017                | -10781.23               | -170233.5               | 145.5349                | 396.6977                | 320.8951                | 6.438050                | 4584.164                | 88.30496                | -328092.0               | 389.3006                | 29930.68                | -14271.937              | 0                       | \n",
       "| 3557 | Bison2                  | NA                      | C19.4H38.9N0.0163O1.43  | aq                      | thermofunc              | NA                      | 9/4/2017                | -19210.39               | -174396.0               | 149.0382                | 390.1793                | 314.4644                | 6.327388                | 4444.776                | 85.35275                | -318381.7               | 383.4149                | 27263.33                | -13287.665              | 0                       | \n",
       "| 3558 | Bison3                  | NA                      | C17.9H35.8N0.0233O1.75  | aq                      | thermofunc              | NA                      | 9/4/2017                | -40727.08               | -182355.0               | 152.0471                | 360.5633                | 291.6853                | 5.908717                | 4020.106                | 76.51127                | -288304.4               | 355.2643                | 21048.66                | -11089.609              | 0                       | \n",
       "| 3559 | Bison4                  | NA                      | C17.3H35.1N0.015O1.57   | aq                      | thermofunc              | NA                      | 9/4/2017                | -31752.13               | -170460.3               | 145.4821                | 352.1583                | 282.5387                | 5.713584                | 3919.539                | 74.51156                | -280391.3               | 346.4849                | 22641.38                | -11640.677              | 0                       | \n",
       "| 3560 | Bison5                  | NA                      | C16.9H33.4N0.00258O1.82 | aq                      | thermofunc              | NA                      | 9/4/2017                | -46288.00               | -178337.5               | 146.5631                | 340.1394                | 275.0101                | 5.576146                | 3776.768                | 71.56509                | -270375.1               | 335.0440                | 20181.23                | -10792.925              | 0                       | \n",
       "| 3561 | Bison6                  | NA                      | C16.7H32.6N0.00324O1.96 | aq                      | thermofunc              | NA                      | 9/4/2017                | -51818.17               | -180223.8               | 149.4642                | 333.1495                | 270.2997                | 5.507876                | 3641.560                | 68.74549                | -261476.4               | 329.1314                | 15576.30                |  -9257.197              | 0                       | \n",
       "\n",
       "\n"
      ],
      "text/plain": [
       "     name   abbrv formula                 state ref1       ref2 date    \n",
       "3556 Bison1 NA    C19.8H39.8N0.0111O1.28  aq    thermofunc NA   9/4/2017\n",
       "3557 Bison2 NA    C19.4H38.9N0.0163O1.43  aq    thermofunc NA   9/4/2017\n",
       "3558 Bison3 NA    C17.9H35.8N0.0233O1.75  aq    thermofunc NA   9/4/2017\n",
       "3559 Bison4 NA    C17.3H35.1N0.015O1.57   aq    thermofunc NA   9/4/2017\n",
       "3560 Bison5 NA    C16.9H33.4N0.00258O1.82 aq    thermofunc NA   9/4/2017\n",
       "3561 Bison6 NA    C16.7H32.6N0.00324O1.96 aq    thermofunc NA   9/4/2017\n",
       "     G         H         S        Cp       V        a1       a2       a3      \n",
       "3556 -10781.23 -170233.5 145.5349 396.6977 320.8951 6.438050 4584.164 88.30496\n",
       "3557 -19210.39 -174396.0 149.0382 390.1793 314.4644 6.327388 4444.776 85.35275\n",
       "3558 -40727.08 -182355.0 152.0471 360.5633 291.6853 5.908717 4020.106 76.51127\n",
       "3559 -31752.13 -170460.3 145.4821 352.1583 282.5387 5.713584 3919.539 74.51156\n",
       "3560 -46288.00 -178337.5 146.5631 340.1394 275.0101 5.576146 3776.768 71.56509\n",
       "3561 -51818.17 -180223.8 149.4642 333.1495 270.2997 5.507876 3641.560 68.74549\n",
       "     a4        c1       c2       omega      Z\n",
       "3556 -328092.0 389.3006 29930.68 -14271.937 0\n",
       "3557 -318381.7 383.4149 27263.33 -13287.665 0\n",
       "3558 -288304.4 355.2643 21048.66 -11089.609 0\n",
       "3559 -280391.3 346.4849 22641.38 -11640.677 0\n",
       "3560 -270375.1 335.0440 20181.23 -10792.925 0\n",
       "3561 -261476.4 329.1314 15576.30  -9257.197 0"
      ]
     },
     "metadata": {},
     "output_type": "display_data"
    }
   ],
   "source": [
    "# add 'hypothetical average lipid' properties\n",
    "suppressMessages(add.obigt(\"data/OBIGT_bison.csv\"))\n",
    "# check to see lipids have loaded properly\n",
    "info(info(c(\"Bison1\", \"Bison2\", \"Bison3\",\n",
    "            \"Bison4\", \"Bison5\", \"Bison6\")))"
   ]
  },
  {
   "cell_type": "code",
   "execution_count": 30,
   "metadata": {
    "slideshow": {
     "slide_type": "-"
    }
   },
   "outputs": [
    {
     "data": {
      "text/html": [
       "<table>\n",
       "<thead><tr><th></th><th scope=col>C</th><th scope=col>H</th><th scope=col>N</th><th scope=col>O</th><th scope=col>Z</th><th scope=col>ispecies</th><th scope=col>logact</th><th scope=col>state</th></tr></thead>\n",
       "<tbody>\n",
       "\t<tr><th scope=row>HCO3-</th><td>1      </td><td>1      </td><td>0      </td><td>3      </td><td>-1     </td><td>13     </td><td>-2.3655</td><td>aq     </td></tr>\n",
       "\t<tr><th scope=row>H2O</th><td>0      </td><td>2      </td><td>0      </td><td>1      </td><td> 0     </td><td> 1     </td><td> 0.0000</td><td>liq    </td></tr>\n",
       "\t<tr><th scope=row>H+</th><td>0      </td><td>1      </td><td>0      </td><td>0      </td><td> 1     </td><td> 3     </td><td>-7.2350</td><td>aq     </td></tr>\n",
       "\t<tr><th scope=row>e-</th><td>0      </td><td>0      </td><td>0      </td><td>0      </td><td>-1     </td><td> 2     </td><td>     NA</td><td>aq     </td></tr>\n",
       "\t<tr><th scope=row>NH4+</th><td>0      </td><td>4      </td><td>1      </td><td>0      </td><td> 1     </td><td>18     </td><td>-5.6034</td><td>aq     </td></tr>\n",
       "</tbody>\n",
       "</table>\n"
      ],
      "text/latex": [
       "\\begin{tabular}{r|llllllll}\n",
       "  & C & H & N & O & Z & ispecies & logact & state\\\\\n",
       "\\hline\n",
       "\tHCO3- & 1       & 1       & 0       & 3       & -1      & 13      & -2.3655 & aq     \\\\\n",
       "\tH2O & 0       & 2       & 0       & 1       &  0      &  1      &  0.0000 & liq    \\\\\n",
       "\tH+ & 0       & 1       & 0       & 0       &  1      &  3      & -7.2350 & aq     \\\\\n",
       "\te- & 0       & 0       & 0       & 0       & -1      &  2      &      NA & aq     \\\\\n",
       "\tNH4+ & 0       & 4       & 1       & 0       &  1      & 18      & -5.6034 & aq     \\\\\n",
       "\\end{tabular}\n"
      ],
      "text/markdown": [
       "\n",
       "| <!--/--> | C | H | N | O | Z | ispecies | logact | state | \n",
       "|---|---|---|---|---|\n",
       "| HCO3- | 1       | 1       | 0       | 3       | -1      | 13      | -2.3655 | aq      | \n",
       "| H2O | 0       | 2       | 0       | 1       |  0      |  1      |  0.0000 | liq     | \n",
       "| H+ | 0       | 1       | 0       | 0       |  1      |  3      | -7.2350 | aq      | \n",
       "| e- | 0       | 0       | 0       | 0       | -1      |  2      |      NA | aq      | \n",
       "| NH4+ | 0       | 4       | 1       | 0       |  1      | 18      | -5.6034 | aq      | \n",
       "\n",
       "\n"
      ],
      "text/plain": [
       "      C H N O Z  ispecies logact  state\n",
       "HCO3- 1 1 0 3 -1 13       -2.3655 aq   \n",
       "H2O   0 2 0 1  0  1        0.0000 liq  \n",
       "H+    0 1 0 0  1  3       -7.2350 aq   \n",
       "e-    0 0 0 0 -1  2            NA aq   \n",
       "NH4+  0 4 1 0  1 18       -5.6034 aq   "
      ]
     },
     "metadata": {},
     "output_type": "display_data"
    }
   ],
   "source": [
    "# set basis chemical species (logacts from EQ3, calculated separately)\n",
    "basis(c(\"HCO3-\", \"H2O\", \"H+\", \"e-\", \"NH4+\"),\n",
    "      c(-2.3655, 0, -7.235, NA, -5.6034))"
   ]
  },
  {
   "cell_type": "code",
   "execution_count": 31,
   "metadata": {
    "scrolled": true,
    "slideshow": {
     "slide_type": "-"
    }
   },
   "outputs": [
    {
     "data": {
      "text/html": [
       "<table>\n",
       "<thead><tr><th scope=col>HCO3-</th><th scope=col>H2O</th><th scope=col>H+</th><th scope=col>e-</th><th scope=col>NH4+</th><th scope=col>ispecies</th><th scope=col>logact</th><th scope=col>state</th><th scope=col>name</th></tr></thead>\n",
       "<tbody>\n",
       "\t<tr><td>19.8     </td><td>-58.12   </td><td>136.1956 </td><td>116.40670</td><td>0.01110  </td><td>3556     </td><td>-3       </td><td>aq       </td><td>Bison1   </td></tr>\n",
       "\t<tr><td>19.4     </td><td>-56.77   </td><td>132.9748 </td><td>113.59110</td><td>0.01630  </td><td>3557     </td><td>-3       </td><td>aq       </td><td>Bison2   </td></tr>\n",
       "\t<tr><td>17.9     </td><td>-51.95   </td><td>121.7068 </td><td>103.83010</td><td>0.02330  </td><td>3558     </td><td>-3       </td><td>aq       </td><td>Bison3   </td></tr>\n",
       "\t<tr><td>17.3     </td><td>-50.33   </td><td>118.4000 </td><td>101.11500</td><td>0.01500  </td><td>3559     </td><td>-3       </td><td>aq       </td><td>Bison4   </td></tr>\n",
       "\t<tr><td>16.9     </td><td>-48.88   </td><td>114.2497 </td><td> 97.35226</td><td>0.00258  </td><td>3560     </td><td>-3       </td><td>aq       </td><td>Bison5   </td></tr>\n",
       "\t<tr><td>16.7     </td><td>-48.14   </td><td>112.1670 </td><td> 95.47028</td><td>0.00324  </td><td>3561     </td><td>-3       </td><td>aq       </td><td>Bison6   </td></tr>\n",
       "</tbody>\n",
       "</table>\n"
      ],
      "text/latex": [
       "\\begin{tabular}{r|lllllllll}\n",
       " HCO3- & H2O & H+ & e- & NH4+ & ispecies & logact & state & name\\\\\n",
       "\\hline\n",
       "\t 19.8      & -58.12    & 136.1956  & 116.40670 & 0.01110   & 3556      & -3        & aq        & Bison1   \\\\\n",
       "\t 19.4      & -56.77    & 132.9748  & 113.59110 & 0.01630   & 3557      & -3        & aq        & Bison2   \\\\\n",
       "\t 17.9      & -51.95    & 121.7068  & 103.83010 & 0.02330   & 3558      & -3        & aq        & Bison3   \\\\\n",
       "\t 17.3      & -50.33    & 118.4000  & 101.11500 & 0.01500   & 3559      & -3        & aq        & Bison4   \\\\\n",
       "\t 16.9      & -48.88    & 114.2497  &  97.35226 & 0.00258   & 3560      & -3        & aq        & Bison5   \\\\\n",
       "\t 16.7      & -48.14    & 112.1670  &  95.47028 & 0.00324   & 3561      & -3        & aq        & Bison6   \\\\\n",
       "\\end{tabular}\n"
      ],
      "text/markdown": [
       "\n",
       "HCO3- | H2O | H+ | e- | NH4+ | ispecies | logact | state | name | \n",
       "|---|---|---|---|---|---|\n",
       "| 19.8      | -58.12    | 136.1956  | 116.40670 | 0.01110   | 3556      | -3        | aq        | Bison1    | \n",
       "| 19.4      | -56.77    | 132.9748  | 113.59110 | 0.01630   | 3557      | -3        | aq        | Bison2    | \n",
       "| 17.9      | -51.95    | 121.7068  | 103.83010 | 0.02330   | 3558      | -3        | aq        | Bison3    | \n",
       "| 17.3      | -50.33    | 118.4000  | 101.11500 | 0.01500   | 3559      | -3        | aq        | Bison4    | \n",
       "| 16.9      | -48.88    | 114.2497  |  97.35226 | 0.00258   | 3560      | -3        | aq        | Bison5    | \n",
       "| 16.7      | -48.14    | 112.1670  |  95.47028 | 0.00324   | 3561      | -3        | aq        | Bison6    | \n",
       "\n",
       "\n"
      ],
      "text/plain": [
       "  HCO3- H2O    H+       e-        NH4+    ispecies logact state name  \n",
       "1 19.8  -58.12 136.1956 116.40670 0.01110 3556     -3     aq    Bison1\n",
       "2 19.4  -56.77 132.9748 113.59110 0.01630 3557     -3     aq    Bison2\n",
       "3 17.9  -51.95 121.7068 103.83010 0.02330 3558     -3     aq    Bison3\n",
       "4 17.3  -50.33 118.4000 101.11500 0.01500 3559     -3     aq    Bison4\n",
       "5 16.9  -48.88 114.2497  97.35226 0.00258 3560     -3     aq    Bison5\n",
       "6 16.7  -48.14 112.1670  95.47028 0.00324 3561     -3     aq    Bison6"
      ]
     },
     "metadata": {},
     "output_type": "display_data"
    }
   ],
   "source": [
    "# set 'average lipids' as species of interest\n",
    "species(c(\"Bison1\", \"Bison2\", \"Bison3\", \"Bison4\", \"Bison5\", \"Bison6\"))"
   ]
  },
  {
   "cell_type": "code",
   "execution_count": 38,
   "metadata": {
    "scrolled": true,
    "slideshow": {
     "slide_type": "-"
    }
   },
   "outputs": [
    {
     "name": "stderr",
     "output_type": "stream",
     "text": [
      "energy.args: temperature is 89 C\n",
      "energy.args: pressure is Psat\n",
      "energy.args: variable 1 is Eh at 300 values from -0.55 to -0.35 V\n",
      "subcrt: 11 species at 362.15 K and 1 bar (wet)\n",
      "balance: from numeric argument value\n",
      "equilibrate: n.balance is 1 1 1 1 1 1\n",
      "equilibrate: loga.balance is -2.22184874961636\n",
      "equilibrate: using boltzmann method\n"
     ]
    }
   ],
   "source": [
    "# set resolution to 300 calculations\n",
    "res <- 300\n",
    "# calculate hyp. lipid affinities of formation at 89 degreesC\n",
    "a <-affinity(Eh=c(-0.55, -0.35, res), T=89.0)\n",
    "# calculate equilibrium chemical activities of lipids from affinities\n",
    "e <-equilibrate(a, balance=1)"
   ]
  },
  {
   "cell_type": "code",
   "execution_count": 39,
   "metadata": {
    "collapsed": true,
    "slideshow": {
     "slide_type": "-"
    }
   },
   "outputs": [],
   "source": [
    "# prepare 'average lipid' speciation output for plotting:\n",
    "x  <- round(seq(from = -0.55, to = -0.35, length.out = res), 5) #Eh\n",
    "y1 <- round(10^e$loga.equil[[1]]/10^e$loga.balance, 5)*100 #Bison1\n",
    "y2 <- round(10^e$loga.equil[[2]]/10^e$loga.balance, 5)*100 #Bison2\n",
    "y3 <- round(10^e$loga.equil[[3]]/10^e$loga.balance, 5)*100 #Bison3\n",
    "y4 <- round(10^e$loga.equil[[4]]/10^e$loga.balance, 5)*100 #Bison4\n",
    "y5 <- round(10^e$loga.equil[[5]]/10^e$loga.balance, 5)*100 #Bison5\n",
    "y6 <- round(10^e$loga.equil[[6]]/10^e$loga.balance, 5)*100 #Bison6"
   ]
  },
  {
   "cell_type": "markdown",
   "metadata": {
    "slideshow": {
     "slide_type": "-"
    }
   },
   "source": [
    "# Monte carlo simulations"
   ]
  },
  {
   "cell_type": "markdown",
   "metadata": {
    "slideshow": {
     "slide_type": "-"
    }
   },
   "source": [
    "Essentially adding random noise over repeated calculations to test robustness of thermodynamic predictions. Perform n times:\n",
    "1. randomly vary all lipid LC-MS peak areas by 20%\n",
    "2. randomly vary slopes of all lipid LC-MS standards by 99%\n",
    "3. calculate average chain properties\n",
    "4. calculate thermodynamic parameters\n",
    "5. calculate metastable equilibrium activities of chains\n",
    "\n",
    "Assemble iterative calculations into a single visual. Does it bear similarity to the 'canon' calculation?\n"
   ]
  },
  {
   "cell_type": "markdown",
   "metadata": {
    "slideshow": {
     "slide_type": "-"
    }
   },
   "source": [
    "# Run a monte carlo lipid thermo simulation"
   ]
  },
  {
   "cell_type": "code",
   "execution_count": null,
   "metadata": {
    "collapsed": true,
    "slideshow": {
     "slide_type": "-"
    }
   },
   "outputs": [],
   "source": [
    "options(warn=-1)\n",
    "a0 <- 'IPL_misc_func.r'\n",
    "a1 <- 'IPL_params_plot.r'\n",
    "a2 <- 'IPL_params_process.r'\n",
    "b <- 'IPL_process_func.r'\n",
    "c <- 'IPL_plot_func.r'\n",
    "d <- 'IPL_params_thermo.r'\n",
    "e1 <- 'IPL_thermo_func.r'\n",
    "f <- 'findHKF.r'\n",
    "h <- 'IPL_thermo_plot_func.r'\n",
    "z <- 'IPL_params_monte.r'\n",
    "home_path <- 'C:/Users/gmboy/Desktop/ASU/Research/Lipids/IPLs/IPL R Projects/IPL processing and thermo speciation R code/IPL-R-WIP'\n",
    "runme <- function(vec_of_files, path = home_path){\n",
    "  for(file in vec_of_files){\n",
    "    setwd(path); eval(parse(file(file))); on.exit(close(file(file)));\n",
    "  }\n",
    "}\n",
    "runme(c(a0, f, b, e1, d)) # call and run relevant scripts in order"
   ]
  },
  {
   "cell_type": "markdown",
   "metadata": {
    "slideshow": {
     "slide_type": "-"
    }
   },
   "source": [
    "# Plot output"
   ]
  },
  {
   "cell_type": "code",
   "execution_count": 41,
   "metadata": {
    "collapsed": true,
    "slideshow": {
     "slide_type": "-"
    }
   },
   "outputs": [],
   "source": [
    "# load thermo_monte results\n",
    "current_path <- getwd()\n",
    "path <- 'C:/Users/gmboy/Desktop/ASU/Research/Lipids/IPLs/IPL R Projects/IPL processing and thermo speciation R code/IPL-R-WIP'\n",
    "setwd(path)\n",
    "t <- readRDS(\"IPL_thermo_peak_area_RF_monte.rds\")\n",
    "t_9 <- readRDS(\"IPL_thermo_peak_area_RF_monte_9.rds\")\n",
    "t_99 <- readRDS(\"IPL_thermo_peak_area_RF_monte_99.rds\")\n",
    "t_999<- readRDS(\"IPL_thermo_peak_area_RF_monte_999.rds\")\n",
    "setwd(current_path)"
   ]
  },
  {
   "cell_type": "code",
   "execution_count": 50,
   "metadata": {
    "collapsed": true,
    "slideshow": {
     "slide_type": "-"
    }
   },
   "outputs": [],
   "source": [
    "t <- t_9 # use t, t_9, t_99, or t_999"
   ]
  },
  {
   "cell_type": "code",
   "execution_count": 51,
   "metadata": {
    "slideshow": {
     "slide_type": "-"
    }
   },
   "outputs": [
    {
     "data": {
      "text/html": [
       "<ol>\n",
       "\t<li><ol class=list-inline>\n",
       "\t<li>'repr'</li>\n",
       "\t<li>'reshape2'</li>\n",
       "\t<li>'plyr'</li>\n",
       "\t<li>'CHNOSZ'</li>\n",
       "\t<li>'plotly'</li>\n",
       "\t<li>'ggplot2'</li>\n",
       "\t<li>'stats'</li>\n",
       "\t<li>'graphics'</li>\n",
       "\t<li>'grDevices'</li>\n",
       "\t<li>'utils'</li>\n",
       "\t<li>'datasets'</li>\n",
       "\t<li>'methods'</li>\n",
       "\t<li>'base'</li>\n",
       "</ol>\n",
       "</li>\n",
       "\t<li><ol class=list-inline>\n",
       "\t<li>'repr'</li>\n",
       "\t<li>'reshape2'</li>\n",
       "\t<li>'plyr'</li>\n",
       "\t<li>'CHNOSZ'</li>\n",
       "\t<li>'plotly'</li>\n",
       "\t<li>'ggplot2'</li>\n",
       "\t<li>'stats'</li>\n",
       "\t<li>'graphics'</li>\n",
       "\t<li>'grDevices'</li>\n",
       "\t<li>'utils'</li>\n",
       "\t<li>'datasets'</li>\n",
       "\t<li>'methods'</li>\n",
       "\t<li>'base'</li>\n",
       "</ol>\n",
       "</li>\n",
       "\t<li><ol class=list-inline>\n",
       "\t<li>'repr'</li>\n",
       "\t<li>'reshape2'</li>\n",
       "\t<li>'plyr'</li>\n",
       "\t<li>'CHNOSZ'</li>\n",
       "\t<li>'plotly'</li>\n",
       "\t<li>'ggplot2'</li>\n",
       "\t<li>'stats'</li>\n",
       "\t<li>'graphics'</li>\n",
       "\t<li>'grDevices'</li>\n",
       "\t<li>'utils'</li>\n",
       "\t<li>'datasets'</li>\n",
       "\t<li>'methods'</li>\n",
       "\t<li>'base'</li>\n",
       "</ol>\n",
       "</li>\n",
       "\t<li><ol class=list-inline>\n",
       "\t<li>'repr'</li>\n",
       "\t<li>'reshape2'</li>\n",
       "\t<li>'plyr'</li>\n",
       "\t<li>'CHNOSZ'</li>\n",
       "\t<li>'plotly'</li>\n",
       "\t<li>'ggplot2'</li>\n",
       "\t<li>'stats'</li>\n",
       "\t<li>'graphics'</li>\n",
       "\t<li>'grDevices'</li>\n",
       "\t<li>'utils'</li>\n",
       "\t<li>'datasets'</li>\n",
       "\t<li>'methods'</li>\n",
       "\t<li>'base'</li>\n",
       "</ol>\n",
       "</li>\n",
       "\t<li><ol class=list-inline>\n",
       "\t<li>'repr'</li>\n",
       "\t<li>'reshape2'</li>\n",
       "\t<li>'plyr'</li>\n",
       "\t<li>'CHNOSZ'</li>\n",
       "\t<li>'plotly'</li>\n",
       "\t<li>'ggplot2'</li>\n",
       "\t<li>'stats'</li>\n",
       "\t<li>'graphics'</li>\n",
       "\t<li>'grDevices'</li>\n",
       "\t<li>'utils'</li>\n",
       "\t<li>'datasets'</li>\n",
       "\t<li>'methods'</li>\n",
       "\t<li>'base'</li>\n",
       "</ol>\n",
       "</li>\n",
       "</ol>\n"
      ],
      "text/latex": [
       "\\begin{enumerate}\n",
       "\\item \\begin{enumerate*}\n",
       "\\item 'repr'\n",
       "\\item 'reshape2'\n",
       "\\item 'plyr'\n",
       "\\item 'CHNOSZ'\n",
       "\\item 'plotly'\n",
       "\\item 'ggplot2'\n",
       "\\item 'stats'\n",
       "\\item 'graphics'\n",
       "\\item 'grDevices'\n",
       "\\item 'utils'\n",
       "\\item 'datasets'\n",
       "\\item 'methods'\n",
       "\\item 'base'\n",
       "\\end{enumerate*}\n",
       "\n",
       "\\item \\begin{enumerate*}\n",
       "\\item 'repr'\n",
       "\\item 'reshape2'\n",
       "\\item 'plyr'\n",
       "\\item 'CHNOSZ'\n",
       "\\item 'plotly'\n",
       "\\item 'ggplot2'\n",
       "\\item 'stats'\n",
       "\\item 'graphics'\n",
       "\\item 'grDevices'\n",
       "\\item 'utils'\n",
       "\\item 'datasets'\n",
       "\\item 'methods'\n",
       "\\item 'base'\n",
       "\\end{enumerate*}\n",
       "\n",
       "\\item \\begin{enumerate*}\n",
       "\\item 'repr'\n",
       "\\item 'reshape2'\n",
       "\\item 'plyr'\n",
       "\\item 'CHNOSZ'\n",
       "\\item 'plotly'\n",
       "\\item 'ggplot2'\n",
       "\\item 'stats'\n",
       "\\item 'graphics'\n",
       "\\item 'grDevices'\n",
       "\\item 'utils'\n",
       "\\item 'datasets'\n",
       "\\item 'methods'\n",
       "\\item 'base'\n",
       "\\end{enumerate*}\n",
       "\n",
       "\\item \\begin{enumerate*}\n",
       "\\item 'repr'\n",
       "\\item 'reshape2'\n",
       "\\item 'plyr'\n",
       "\\item 'CHNOSZ'\n",
       "\\item 'plotly'\n",
       "\\item 'ggplot2'\n",
       "\\item 'stats'\n",
       "\\item 'graphics'\n",
       "\\item 'grDevices'\n",
       "\\item 'utils'\n",
       "\\item 'datasets'\n",
       "\\item 'methods'\n",
       "\\item 'base'\n",
       "\\end{enumerate*}\n",
       "\n",
       "\\item \\begin{enumerate*}\n",
       "\\item 'repr'\n",
       "\\item 'reshape2'\n",
       "\\item 'plyr'\n",
       "\\item 'CHNOSZ'\n",
       "\\item 'plotly'\n",
       "\\item 'ggplot2'\n",
       "\\item 'stats'\n",
       "\\item 'graphics'\n",
       "\\item 'grDevices'\n",
       "\\item 'utils'\n",
       "\\item 'datasets'\n",
       "\\item 'methods'\n",
       "\\item 'base'\n",
       "\\end{enumerate*}\n",
       "\n",
       "\\end{enumerate}\n"
      ],
      "text/markdown": [
       "1. 1. 'repr'\n",
       "2. 'reshape2'\n",
       "3. 'plyr'\n",
       "4. 'CHNOSZ'\n",
       "5. 'plotly'\n",
       "6. 'ggplot2'\n",
       "7. 'stats'\n",
       "8. 'graphics'\n",
       "9. 'grDevices'\n",
       "10. 'utils'\n",
       "11. 'datasets'\n",
       "12. 'methods'\n",
       "13. 'base'\n",
       "\n",
       "\n",
       "\n",
       "2. 1. 'repr'\n",
       "2. 'reshape2'\n",
       "3. 'plyr'\n",
       "4. 'CHNOSZ'\n",
       "5. 'plotly'\n",
       "6. 'ggplot2'\n",
       "7. 'stats'\n",
       "8. 'graphics'\n",
       "9. 'grDevices'\n",
       "10. 'utils'\n",
       "11. 'datasets'\n",
       "12. 'methods'\n",
       "13. 'base'\n",
       "\n",
       "\n",
       "\n",
       "3. 1. 'repr'\n",
       "2. 'reshape2'\n",
       "3. 'plyr'\n",
       "4. 'CHNOSZ'\n",
       "5. 'plotly'\n",
       "6. 'ggplot2'\n",
       "7. 'stats'\n",
       "8. 'graphics'\n",
       "9. 'grDevices'\n",
       "10. 'utils'\n",
       "11. 'datasets'\n",
       "12. 'methods'\n",
       "13. 'base'\n",
       "\n",
       "\n",
       "\n",
       "4. 1. 'repr'\n",
       "2. 'reshape2'\n",
       "3. 'plyr'\n",
       "4. 'CHNOSZ'\n",
       "5. 'plotly'\n",
       "6. 'ggplot2'\n",
       "7. 'stats'\n",
       "8. 'graphics'\n",
       "9. 'grDevices'\n",
       "10. 'utils'\n",
       "11. 'datasets'\n",
       "12. 'methods'\n",
       "13. 'base'\n",
       "\n",
       "\n",
       "\n",
       "5. 1. 'repr'\n",
       "2. 'reshape2'\n",
       "3. 'plyr'\n",
       "4. 'CHNOSZ'\n",
       "5. 'plotly'\n",
       "6. 'ggplot2'\n",
       "7. 'stats'\n",
       "8. 'graphics'\n",
       "9. 'grDevices'\n",
       "10. 'utils'\n",
       "11. 'datasets'\n",
       "12. 'methods'\n",
       "13. 'base'\n",
       "\n",
       "\n",
       "\n",
       "\n",
       "\n"
      ],
      "text/plain": [
       "[[1]]\n",
       " [1] \"repr\"      \"reshape2\"  \"plyr\"      \"CHNOSZ\"    \"plotly\"    \"ggplot2\"  \n",
       " [7] \"stats\"     \"graphics\"  \"grDevices\" \"utils\"     \"datasets\"  \"methods\"  \n",
       "[13] \"base\"     \n",
       "\n",
       "[[2]]\n",
       " [1] \"repr\"      \"reshape2\"  \"plyr\"      \"CHNOSZ\"    \"plotly\"    \"ggplot2\"  \n",
       " [7] \"stats\"     \"graphics\"  \"grDevices\" \"utils\"     \"datasets\"  \"methods\"  \n",
       "[13] \"base\"     \n",
       "\n",
       "[[3]]\n",
       " [1] \"repr\"      \"reshape2\"  \"plyr\"      \"CHNOSZ\"    \"plotly\"    \"ggplot2\"  \n",
       " [7] \"stats\"     \"graphics\"  \"grDevices\" \"utils\"     \"datasets\"  \"methods\"  \n",
       "[13] \"base\"     \n",
       "\n",
       "[[4]]\n",
       " [1] \"repr\"      \"reshape2\"  \"plyr\"      \"CHNOSZ\"    \"plotly\"    \"ggplot2\"  \n",
       " [7] \"stats\"     \"graphics\"  \"grDevices\" \"utils\"     \"datasets\"  \"methods\"  \n",
       "[13] \"base\"     \n",
       "\n",
       "[[5]]\n",
       " [1] \"repr\"      \"reshape2\"  \"plyr\"      \"CHNOSZ\"    \"plotly\"    \"ggplot2\"  \n",
       " [7] \"stats\"     \"graphics\"  \"grDevices\" \"utils\"     \"datasets\"  \"methods\"  \n",
       "[13] \"base\"     \n"
      ]
     },
     "metadata": {},
     "output_type": "display_data"
    },
    {
     "name": "stderr",
     "output_type": "stream",
     "text": [
      "We recommend that you use the dev version of ggplot2 with `ggplotly()`\n",
      "Install it with: `devtools::install_github('hadley/ggplot2')`\n"
     ]
    },
    {
     "data": {
      "text/html": [
       "'done!'"
      ],
      "text/latex": [
       "'done!'"
      ],
      "text/markdown": [
       "'done!'"
      ],
      "text/plain": [
       "[1] \"done!\""
      ]
     },
     "metadata": {},
     "output_type": "display_data"
    }
   ],
   "source": [
    "# load libraries\n",
    "all_libs <- c('ggplot2', 'plotly', 'plyr', 'reshape2', 'repr')\n",
    "suppressMessages(lapply(all_libs, library, character.only = TRUE))\n",
    "\n",
    "# Set aspect ratio for displayed plots\n",
    "options(repr.plot.width=10, repr.plot.height=5)\n",
    "\n",
    "# Define x and y variables\n",
    "number_of_ys <- ncol(t)-1\n",
    "for(i in 1:number_of_ys){\n",
    "  var_name <- paste(\"y\", i, sep=\"\")\n",
    "  assign(var_name, t[var_name])\n",
    "}\n",
    "x  <- t$x[seq(1, nrow(y1))]\n",
    "\n",
    "# Set color palette\n",
    "pal <- c(\"#1f77b4\", \"#ff7f0e\", \"#2ca02c\", \"#d62728\", \"#9467bd\", \"#8c564b\")\n",
    "pal_list_to_eval <- \"c(\"\n",
    "for(i in 1:number_of_ys-1){\n",
    "  pal_list_to_eval <- paste(pal_list_to_eval,\n",
    "    \"OF\", i, \" = pal[\", i, \"], \", sep=\"\")\n",
    "}\n",
    "pal_list_to_eval <- paste(pal_list_to_eval, \"OF\",\n",
    "  number_of_ys, \" = pal[\", number_of_ys, \"])\", sep=\"\")\n",
    "\n",
    "# Set up ggplot of monte carlo datapoints\n",
    "p_point <- ggplot(t, aes(x = x, y = y1)) +\n",
    "     theme(panel.background = element_blank()) +\n",
    "     labs(x = \"Eh, volts\", y = \"percent speciation\")\n",
    "\n",
    "for(i in 1:number_of_ys){\n",
    "  var_name = paste(\"y\", i, sep=\"\")\n",
    "  site_name <- paste(\"OF\", i, sep=\"\")\n",
    "  p_point <- p_point + geom_point(data=t,\n",
    "    aes_string(x=\"x\", y=var_name, colour = shQuote(site_name)),\n",
    "    inherit.aes=FALSE)\n",
    "}\n",
    "\n",
    "p_point <- p_point + scale_colour_manual(name = \"Site\",\n",
    "  values = eval(parse(text = pal_list_to_eval)))\n",
    "\n",
    "\n",
    "# Define function to clean and prepare a data frame for plotly/ggplot plotting\n",
    "clean <- function(y_to_plot){\n",
    "  # remove entries with NA or NaN for y\n",
    "  y_to_plot <- y_to_plot[complete.cases(y_to_plot),]\n",
    "  # convert to a data frame, which can undergo binning\n",
    "  y_to_plot <- as.data.frame(y_to_plot)\n",
    "  return(y_to_plot)\n",
    "}\n",
    "\n",
    "# bind and clean up x and y of interest\n",
    "for(i in 1:number_of_ys){\n",
    "  var_name <- paste(\"y\", i, \"_to_plot\", sep=\"\")\n",
    "  assign(var_name, cbind(x = t$x, y = as.vector(unlist(t[paste(\"y\", i, sep=\"\")]))))\n",
    "  assign(var_name, clean(get(var_name))) # cleans out incomplete x-y cases\n",
    "  assign(var_name, cbind(get(var_name), site = paste(\"OF\", i, sep=\"\")))\n",
    "}\n",
    "y_to_plot <- y1_to_plot # initialize vector\n",
    "for(i in 2:number_of_ys){\n",
    "  var_name <- paste(\"y\", i, \"_to_plot\", sep=\"\")\n",
    "  y_to_plot <- rbind(y_to_plot, get(var_name))\n",
    "}\n",
    "y_to_plot <- as.data.frame(y_to_plot)\n",
    "\n",
    "# Set up boxplot in ggplot\n",
    "  p_box <- ggplot(y_to_plot,\n",
    "      aes(x = factor(round_any(x, 0.01)), y = y, fill = site)) +\n",
    "      geom_boxplot(outlier.alpha = 0) +\n",
    "      labs(x = \"Eh, volts\", y = \"percent speciation\") +\n",
    "      theme(axis.text.x = element_text(angle = -90, vjust = 0.4, hjust = 1), panel.background = element_blank()) +\n",
    "      scale_x_discrete(breaks = round(seq(min(y_to_plot$x),\n",
    "        max(y_to_plot$x),by = 0.05), 2))\n",
    "  p_box <- p_box + scale_fill_manual(name = \"Site\", values = eval(parse(text = pal_list_to_eval)))\n",
    "\n",
    "# Set up boxplot in plotly\n",
    "p_box_interactive <- ggplotly(p_box)\n",
    "\n",
    "# Remove outlier points from plotly plot (massive visual clutter)\n",
    "for(i in 1:number_of_ys){\n",
    "    p_box_interactive$x$data[[i]]$marker$opacity <- 0\n",
    "}\n",
    "\n",
    "\"done!\""
   ]
  }
 ],
 "metadata": {
  "celltoolbar": "Slideshow",
  "hide_input": false,
  "kernelspec": {
   "display_name": "R",
   "language": "R",
   "name": "ir"
  },
  "language_info": {
   "codemirror_mode": "r",
   "file_extension": ".r",
   "mimetype": "text/x-r-source",
   "name": "R",
   "pygments_lexer": "r",
   "version": "3.3.2"
  }
 },
 "nbformat": 4,
 "nbformat_minor": 2
}
